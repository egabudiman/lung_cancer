{
 "cells": [
  {
   "cell_type": "code",
   "execution_count": 1,
   "id": "ef5b5add-8c4e-4553-a150-3213613071f0",
   "metadata": {},
   "outputs": [],
   "source": [
    "# === 1. Import Library ===\n",
    "import pandas as pd\n",
    "import numpy as np\n",
    "import matplotlib.pyplot as plt\n",
    "from sklearn.ensemble import RandomForestClassifier\n",
    "from sklearn.model_selection import train_test_split\n",
    "from sklearn.metrics import accuracy_score, precision_score, recall_score, f1_score, roc_auc_score\n",
    "import xgboost as xgb\n",
    "from xgboost import XGBClassifier\n",
    "from deap import base, creator, tools, algorithms"
   ]
  },
  {
   "cell_type": "code",
   "execution_count": 2,
   "id": "a6f7dc2c-1d53-4d1b-88d9-22683e6de160",
   "metadata": {},
   "outputs": [],
   "source": [
    "# === 2. Load Dataset ===\n",
    "df = pd.read_csv(\"Lung Cancer Dataset.csv\")\n",
    "df['PULMONARY_DISEASE'] = df['PULMONARY_DISEASE'].map({'YES': 1, 'NO': 0})  # Encoding target variable\n"
   ]
  },
  {
   "cell_type": "code",
   "execution_count": 3,
   "id": "86f1c85c-94c6-4f80-828a-77c1bd3f58b7",
   "metadata": {},
   "outputs": [],
   "source": [
    "# Pisahkan fitur dan target\n",
    "X = df.drop(columns=['PULMONARY_DISEASE'])\n",
    "y = df['PULMONARY_DISEASE']"
   ]
  },
  {
   "cell_type": "code",
   "execution_count": 4,
   "id": "1b6c094a-da20-4c80-9d17-b4a45330074a",
   "metadata": {},
   "outputs": [],
   "source": [
    "# Konversi fitur kategori ke numerik (jika ada)\n",
    "X = pd.get_dummies(X)"
   ]
  },
  {
   "cell_type": "code",
   "execution_count": 5,
   "id": "d102d6ec-2452-4375-9de6-25408dcaa480",
   "metadata": {},
   "outputs": [],
   "source": [
    "# Split data\n",
    "X_train, X_test, y_train, y_test = train_test_split(X, y, test_size=0.2, random_state=42)"
   ]
  },
  {
   "cell_type": "code",
   "execution_count": 6,
   "id": "78d32df6-8383-4501-8a48-845fa0a1db63",
   "metadata": {},
   "outputs": [],
   "source": [
    "# === 3. Parameter Genetic Algorithm ===\n",
    "POPULATION_SIZE = 20  # Ukuran populasi\n",
    "N_GENERATIONS = 50  # Jumlah iterasi generasi\n",
    "MUTATION_RATE = 0.2  # Peluang mutasi"
   ]
  },
  {
   "cell_type": "code",
   "execution_count": 8,
   "id": "bc914602-6387-4509-ba04-97bcfcb0e02a",
   "metadata": {},
   "outputs": [
    {
     "name": "stderr",
     "output_type": "stream",
     "text": [
      "D:\\laragon\\bin\\python\\python-3.10\\lib\\site-packages\\deap\\creator.py:185: RuntimeWarning: A class named 'FitnessMax' has already been created and it will be overwritten. Consider deleting previous creation of that class or rename it.\n",
      "  warnings.warn(\"A class named '{0}' has already been created and it \"\n",
      "D:\\laragon\\bin\\python\\python-3.10\\lib\\site-packages\\deap\\creator.py:185: RuntimeWarning: A class named 'Individual' has already been created and it will be overwritten. Consider deleting previous creation of that class or rename it.\n",
      "  warnings.warn(\"A class named '{0}' has already been created and it \"\n"
     ]
    }
   ],
   "source": [
    "# Inisialisasi GA\n",
    "creator.create(\"FitnessMax\", base.Fitness, weights=(1.0,))\n",
    "creator.create(\"Individual\", list, fitness=creator.FitnessMax)\n",
    "\n"
   ]
  },
  {
   "cell_type": "code",
   "execution_count": 9,
   "id": "08a348a1-e8c7-41e4-90b1-e1a8b5a38934",
   "metadata": {},
   "outputs": [],
   "source": [
    "toolbox = base.Toolbox()\n",
    "toolbox.register(\"attr_bool\", np.random.randint, 0, 2)\n",
    "toolbox.register(\"individual\", tools.initRepeat, creator.Individual, toolbox.attr_bool, n=len(X.columns))\n",
    "toolbox.register(\"population\", tools.initRepeat, list, toolbox.individual)"
   ]
  },
  {
   "cell_type": "code",
   "execution_count": 10,
   "id": "e4f0975b-f65b-4fd3-9424-71668ec1040f",
   "metadata": {},
   "outputs": [],
   "source": [
    "# === 4. Genetic Algorithm for Feature Selection (Random Forest) ===\n",
    "def evaluate_rf(individual):\n",
    "    selected_features = [col for i, col in enumerate(X.columns) if individual[i] == 1]\n",
    "    if len(selected_features) == 0:\n",
    "        return 0,\n",
    "    X_selected = X[selected_features]\n",
    "    X_train_sel, X_test_sel, y_train_sel, y_test_sel = train_test_split(X_selected, y, test_size=0.2, random_state=42)\n",
    "    model = RandomForestClassifier(n_estimators=100, random_state=42)\n",
    "    scores = accuracy_score(y_test_sel, model.fit(X_train_sel, y_train_sel).predict(X_test_sel))\n",
    "    return scores,\n",
    "\n",
    "toolbox.register(\"evaluate\", evaluate_rf)\n",
    "toolbox.register(\"mate\", tools.cxTwoPoint)\n",
    "toolbox.register(\"mutate\", tools.mutFlipBit, indpb=MUTATION_RATE)\n",
    "toolbox.register(\"select\", tools.selTournament, tournsize=3)"
   ]
  },
  {
   "cell_type": "code",
   "execution_count": 11,
   "id": "7b6c0282-2537-44e2-ba4a-074c4c9b8c9d",
   "metadata": {},
   "outputs": [],
   "source": [
    "# Simpan nilai fitness terbaik tiap generasi\n",
    "best_fitness_per_generation = []"
   ]
  },
  {
   "cell_type": "code",
   "execution_count": 14,
   "id": "88e83b6f-ad17-46a4-9827-e042887bfdb0",
   "metadata": {},
   "outputs": [
    {
     "name": "stdout",
     "output_type": "stream",
     "text": [
      "Running Genetic Algorithm for 50 generations...\n",
      "\n",
      "gen\tnevals\tmax  \tmin  \tavg    \n",
      "0  \t20    \t0.863\t0.555\t0.70265\n",
      "1  \t9     \t0.863\t0.598\t0.76295\n",
      "2  \t13    \t0.87 \t0.729\t0.81445\n",
      "3  \t16    \t0.87 \t0.81 \t0.85515\n",
      "4  \t13    \t0.877\t0.789\t0.8604 \n",
      "5  \t8     \t0.87 \t0.722\t0.85895\n",
      "6  \t7     \t0.87 \t0.685\t0.8536 \n",
      "7  \t14    \t0.87 \t0.701\t0.84435\n",
      "8  \t13    \t0.87 \t0.686\t0.84225\n",
      "9  \t11    \t0.883\t0.746\t0.86445\n",
      "10 \t10    \t0.901\t0.723\t0.8619 \n",
      "11 \t17    \t0.901\t0.694\t0.84005\n",
      "12 \t6     \t0.91 \t0.683\t0.8579 \n",
      "13 \t12    \t0.915\t0.702\t0.86945\n",
      "14 \t11    \t0.915\t0.664\t0.8784 \n",
      "15 \t10    \t0.915\t0.843\t0.90685\n",
      "16 \t11    \t0.915\t0.781\t0.90505\n",
      "17 \t10    \t0.915\t0.909\t0.91355\n",
      "18 \t10    \t0.915\t0.78 \t0.897  \n",
      "19 \t17    \t0.915\t0.576\t0.87915\n",
      "20 \t7     \t0.915\t0.771\t0.9055 \n",
      "21 \t13    \t0.915\t0.752\t0.8911 \n",
      "22 \t12    \t0.915\t0.727\t0.8924 \n",
      "23 \t11    \t0.915\t0.867\t0.9126 \n",
      "24 \t10    \t0.915\t0.739\t0.89975\n",
      "25 \t12    \t0.915\t0.789\t0.8931 \n",
      "26 \t13    \t0.922\t0.688\t0.89525\n",
      "27 \t16    \t0.922\t0.702\t0.8936 \n",
      "28 \t9     \t0.922\t0.78 \t0.90405\n",
      "29 \t16    \t0.922\t0.719\t0.88665\n",
      "30 \t10    \t0.922\t0.764\t0.8965 \n",
      "31 \t12    \t0.922\t0.627\t0.89275\n",
      "32 \t10    \t0.922\t0.729\t0.8893 \n",
      "33 \t12    \t0.922\t0.723\t0.9019 \n",
      "34 \t17    \t0.922\t0.635\t0.8902 \n",
      "35 \t13    \t0.922\t0.819\t0.91055\n",
      "36 \t9     \t0.922\t0.648\t0.89655\n",
      "37 \t13    \t0.922\t0.744\t0.90355\n",
      "38 \t8     \t0.922\t0.698\t0.89415\n",
      "39 \t12    \t0.922\t0.877\t0.9184 \n",
      "40 \t13    \t0.922\t0.827\t0.91725\n",
      "41 \t14    \t0.922\t0.716\t0.8899 \n",
      "42 \t16    \t0.922\t0.717\t0.8715 \n",
      "43 \t11    \t0.922\t0.842\t0.90955\n",
      "44 \t11    \t0.922\t0.742\t0.88975\n",
      "45 \t11    \t0.922\t0.66 \t0.8858 \n",
      "46 \t13    \t0.922\t0.913\t0.92155\n",
      "47 \t12    \t0.922\t0.678\t0.8956 \n",
      "48 \t13    \t0.922\t0.828\t0.90465\n",
      "49 \t12    \t0.922\t0.681\t0.8893 \n",
      "50 \t15    \t0.922\t0.823\t0.904  \n",
      "\n",
      "Fitur Terbaik yang Dipilih oleh GA untuk Random Forest:\n",
      "['AGE', 'SMOKING', 'EXPOSURE_TO_POLLUTION', 'ENERGY_LEVEL', 'BREATHING_ISSUE', 'ALCOHOL_CONSUMPTION', 'THROAT_DISCOMFORT', 'FAMILY_HISTORY', 'SMOKING_FAMILY_HISTORY', 'STRESS_IMMUNE']\n"
     ]
    }
   ],
   "source": [
    "# Jalankan GA untuk RF\n",
    "population = toolbox.population(n=POPULATION_SIZE)\n",
    "hof = tools.HallOfFame(1)\n",
    "\n",
    "# Menjalankan GA dalam satu kali pemanggilan untuk semua generasi\n",
    "stats = tools.Statistics(lambda ind: ind.fitness.values)\n",
    "stats.register(\"max\", np.max)\n",
    "stats.register(\"min\", np.min)\n",
    "stats.register(\"avg\", np.mean)\n",
    "\n",
    "print(f\"Running Genetic Algorithm for {N_GENERATIONS} generations...\\n\")\n",
    "\n",
    "# Jalankan GA satu kali untuk semua generasi\n",
    "population, logbook = algorithms.eaSimple(population, toolbox, cxpb=0.5, mutpb=0.2, \n",
    "                                          ngen=N_GENERATIONS, stats=stats, halloffame=hof, verbose=True)\n",
    "\n",
    "# Simpan nilai fitness terbaik dari setiap generasi\n",
    "best_fitness_per_generation = logbook.select(\"max\")\n",
    "\n",
    "# Pastikan bahwa GA berhasil menemukan individu terbaik\n",
    "if len(hof) > 0:\n",
    "    best_features_rf = [col for i, col in enumerate(X.columns) if hof[0][i] == 1]\n",
    "    print(\"\\nFitur Terbaik yang Dipilih oleh GA untuk Random Forest:\")\n",
    "    print(best_features_rf)\n",
    "else:\n",
    "    print(\"⚠️ GA tidak menemukan individu terbaik. Periksa kembali parameter GA.\")\n",
    "    best_features_rf = []\n"
   ]
  },
  {
   "cell_type": "code",
   "execution_count": 15,
   "id": "ff81e50f-6f68-4d29-8e45-c8b5c77e8b4d",
   "metadata": {},
   "outputs": [],
   "source": [
    "# === 5. Genetic Algorithm for Feature Selection (XGBoost) ===\n",
    "def evaluate_xgb(individual):\n",
    "    selected_features = [col for i, col in enumerate(X.columns) if individual[i] == 1]\n",
    "    if len(selected_features) == 0:\n",
    "        return 0,\n",
    "    X_selected = X[selected_features]\n",
    "    X_train_sel, X_test_sel, y_train_sel, y_test_sel = train_test_split(X_selected, y, test_size=0.2, random_state=42)\n",
    "    model = XGBClassifier(n_estimators=100, random_state=42, eval_metric=\"logloss\")\n",
    "    scores = accuracy_score(y_test_sel, model.fit(X_train_sel, y_train_sel).predict(X_test_sel))\n",
    "    return scores,\n",
    "\n",
    "toolbox.register(\"evaluate\", evaluate_xgb)"
   ]
  },
  {
   "cell_type": "code",
   "execution_count": 16,
   "id": "5e39e6b3-3dc8-4c91-8189-7cd8dfc9a6ac",
   "metadata": {},
   "outputs": [],
   "source": [
    "# Simpan nilai fitness terbaik tiap generasi untuk XGBoost\n",
    "best_fitness_per_generation_xgb = []"
   ]
  },
  {
   "cell_type": "code",
   "execution_count": 19,
   "id": "54a2ce7c-0a4b-4e2d-adcd-1361667e7821",
   "metadata": {},
   "outputs": [
    {
     "name": "stdout",
     "output_type": "stream",
     "text": [
      "Running Genetic Algorithm for XGBoost with 50 generations...\n",
      "\n",
      "gen\tnevals\tmax \tmin  \tavg    \n",
      "0  \t20    \t0.83\t0.562\t0.71935\n",
      "1  \t11    \t0.85\t0.676\t0.7749 \n",
      "2  \t10    \t0.865\t0.693\t0.8154 \n",
      "3  \t10    \t0.905\t0.745\t0.83735\n",
      "4  \t12    \t0.906\t0.722\t0.84905\n",
      "5  \t10    \t0.909\t0.799\t0.88645\n",
      "6  \t9     \t0.909\t0.805\t0.89615\n",
      "7  \t11    \t0.909\t0.705\t0.8855 \n",
      "8  \t14    \t0.909\t0.813\t0.90115\n",
      "9  \t14    \t0.909\t0.727\t0.89045\n",
      "10 \t14    \t0.909\t0.789\t0.9028 \n",
      "11 \t14    \t0.909\t0.664\t0.8636 \n",
      "12 \t8     \t0.909\t0.793\t0.90265\n",
      "13 \t2     \t0.909\t0.872\t0.90715\n",
      "14 \t8     \t0.909\t0.799\t0.9034 \n",
      "15 \t8     \t0.909\t0.671\t0.86955\n",
      "16 \t13    \t0.911\t0.629\t0.8891 \n",
      "17 \t9     \t0.911\t0.751\t0.8949 \n",
      "18 \t11    \t0.911\t0.712\t0.88685\n",
      "19 \t15    \t0.911\t0.604\t0.8629 \n",
      "20 \t8     \t0.911\t0.831\t0.90045\n",
      "21 \t16    \t0.911\t0.771\t0.89025\n",
      "22 \t10    \t0.911\t0.713\t0.8848 \n",
      "23 \t10    \t0.911\t0.685\t0.89125\n",
      "24 \t11    \t0.911\t0.782\t0.8944 \n",
      "25 \t13    \t0.911\t0.718\t0.8812 \n",
      "26 \t15    \t0.911\t0.777\t0.9019 \n",
      "27 \t13    \t0.911\t0.777\t0.89755\n",
      "28 \t14    \t0.911\t0.762\t0.90105\n",
      "29 \t16    \t0.911\t0.789\t0.89675\n",
      "30 \t12    \t0.911\t0.686\t0.88675\n",
      "31 \t12    \t0.911\t0.676\t0.8824 \n",
      "32 \t9     \t0.911\t0.724\t0.89055\n",
      "33 \t12    \t0.911\t0.775\t0.89555\n",
      "34 \t13    \t0.911\t0.73 \t0.88685\n",
      "35 \t10    \t0.911\t0.849\t0.90775\n",
      "36 \t19    \t0.911\t0.669\t0.88425\n",
      "37 \t15    \t0.911\t0.782\t0.89155\n",
      "38 \t9     \t0.911\t0.803\t0.9056 \n",
      "39 \t14    \t0.911\t0.754\t0.88695\n",
      "40 \t9     \t0.911\t0.805\t0.8954 \n",
      "41 \t13    \t0.911\t0.766\t0.9016 \n",
      "42 \t14    \t0.911\t0.683\t0.8904 \n",
      "43 \t8     \t0.911\t0.65 \t0.85825\n",
      "44 \t8     \t0.911\t0.816\t0.89875\n",
      "45 \t12    \t0.911\t0.682\t0.8694 \n",
      "46 \t14    \t0.911\t0.709\t0.8824 \n",
      "47 \t13    \t0.911\t0.724\t0.8988 \n",
      "48 \t10    \t0.911\t0.642\t0.87925\n",
      "49 \t11    \t0.911\t0.82 \t0.8992 \n",
      "50 \t13    \t0.911\t0.611\t0.8788 \n",
      "\n",
      "Fitur Terbaik yang Dipilih oleh GA untuk XGBoost:\n",
      "['AGE', 'SMOKING', 'FINGER_DISCOLORATION', 'EXPOSURE_TO_POLLUTION', 'ENERGY_LEVEL', 'BREATHING_ISSUE', 'ALCOHOL_CONSUMPTION', 'THROAT_DISCOMFORT', 'CHEST_TIGHTNESS', 'FAMILY_HISTORY', 'SMOKING_FAMILY_HISTORY', 'STRESS_IMMUNE']\n"
     ]
    }
   ],
   "source": [
    "# Jalankan GA untuk XGBoost\n",
    "population = toolbox.population(n=POPULATION_SIZE)\n",
    "hof = tools.HallOfFame(1)\n",
    "\n",
    "# Menjalankan GA dalam satu kali pemanggilan untuk semua generasi\n",
    "stats = tools.Statistics(lambda ind: ind.fitness.values)\n",
    "stats.register(\"max\", np.max)\n",
    "stats.register(\"min\", np.min)\n",
    "stats.register(\"avg\", np.mean)\n",
    "\n",
    "print(f\"Running Genetic Algorithm for XGBoost with {N_GENERATIONS} generations...\\n\")\n",
    "\n",
    "# Jalankan GA satu kali untuk semua generasi\n",
    "population, logbook = algorithms.eaSimple(population, toolbox, cxpb=0.5, mutpb=0.2, \n",
    "                                          ngen=N_GENERATIONS, stats=stats, halloffame=hof, verbose=True)\n",
    "\n",
    "# Simpan nilai fitness terbaik dari setiap generasi\n",
    "#best_fitness_per_generation_xgb = logbook.select(\"max\")\n",
    "best_fitness_per_generation_xgb = logbook.select(\"max\")[1:]  # Hilangkan nilai generasi 0\n",
    "# Pastikan bahwa GA berhasil menemukan individu terbaik\n",
    "if len(hof) > 0:\n",
    "    best_features_xgb = [col for i, col in enumerate(X.columns) if hof[0][i] == 1]\n",
    "    print(\"\\nFitur Terbaik yang Dipilih oleh GA untuk XGBoost:\")\n",
    "    print(best_features_xgb)\n",
    "else:\n",
    "    print(\"⚠️ GA tidak menemukan individu terbaik untuk XGBoost. Periksa kembali parameter GA.\")\n",
    "    best_features_xgb = []\n"
   ]
  },
  {
   "cell_type": "code",
   "execution_count": 22,
   "id": "520c6464-928c-4822-a3e0-ce777b35a013",
   "metadata": {},
   "outputs": [
    {
     "data": {
      "image/png": "[encoded data removed]",
      "text/plain": [
       "<Figure size 800x500 with 1 Axes>"
      ]
     },
     "metadata": {},
     "output_type": "display_data"
    }
   ],
   "source": [
    "# === 6. Visualisasi Konvergensi GA ===\n",
    "plt.figure(figsize=(8, 5))\n",
    "\n",
    "# Pastikan jumlah data cocok dengan jumlah generasi\n",
    "generations = list(range(1, N_GENERATIONS+1))  # Mulai dari 1 agar generasi 0 tidak ikut\n",
    "\n",
    "# Plot konvergensi untuk Random Forest\n",
    "plt.plot(generations, best_fitness_per_generation[:N_GENERATIONS], \n",
    "         marker='o', linestyle='-', color='b', label='RF Fitness Score')\n",
    "\n",
    "# Plot konvergensi untuk XGBoost\n",
    "plt.plot(generations, best_fitness_per_generation_xgb[:N_GENERATIONS], \n",
    "         marker='o', linestyle='-', color='r', label='XGB Fitness Score')\n",
    "\n",
    "# Garis vertikal sebagai tanda stabilisasi\n",
    "plt.axvline(x=40, linestyle='--', color='gray', label='Stabilization Point')\n",
    "\n",
    "# Judul dan label\n",
    "plt.title(\"GA Convergence Over 50 Generations\")\n",
    "plt.xlabel(\"Generation\")\n",
    "plt.ylabel(\"Best Fitness Score\")\n",
    "plt.legend()\n",
    "plt.grid()\n",
    "\n",
    "# Tampilkan grafik\n",
    "plt.show()\n"
   ]
  },
  {
   "cell_type": "code",
   "execution_count": 23,
   "id": "4e025005-b6b8-4d55-a53b-c44de9c19c81",
   "metadata": {},
   "outputs": [],
   "source": [
    "# === 7. Evaluasi Model ===\n",
    "def evaluate_model(model, X_train, X_test, y_train, y_test, desc):\n",
    "    model.fit(X_train, y_train)\n",
    "    y_pred = model.predict(X_test)\n",
    "    acc = accuracy_score(y_test, y_pred)\n",
    "    precision = precision_score(y_test, y_pred)\n",
    "    recall = recall_score(y_test, y_pred)\n",
    "    f1 = f1_score(y_test, y_pred)\n",
    "    auc = roc_auc_score(y_test, y_pred)\n",
    "    return [desc, acc, precision, recall, f1, auc]\n",
    "\n",
    "results=[]"
   ]
  },
  {
   "cell_type": "code",
   "execution_count": 24,
   "id": "deea7333-c8b8-4201-ae71-78656ea213f5",
   "metadata": {},
   "outputs": [],
   "source": [
    "# Evaluasi Random Forest\n",
    "results.append(evaluate_model(RandomForestClassifier(n_estimators=100, random_state=42), X_train, X_test, y_train, y_test, \"Random Forest Sebelum GA\"))\n",
    "results.append(evaluate_model(RandomForestClassifier(n_estimators=100, random_state=42), X_train[best_features_rf], X_test[best_features_rf], y_train, y_test, \"Random Forest Setelah GA\"))\n"
   ]
  },
  {
   "cell_type": "code",
   "execution_count": 25,
   "id": "5d85a347-0e64-4399-b430-6df46d34328a",
   "metadata": {},
   "outputs": [],
   "source": [
    "# Evaluasi XGBoost\n",
    "results.append(evaluate_model(XGBClassifier(n_estimators=100, random_state=42, eval_metric=\"logloss\"), X_train, X_test, y_train, y_test, \"XGBoost Sebelum GA\"))\n",
    "results.append(evaluate_model(XGBClassifier(n_estimators=100, random_state=42, eval_metric=\"logloss\"), X_train[best_features_xgb], X_test[best_features_xgb], y_train, y_test, \"XGBoost Setelah GA\"))\n"
   ]
  },
  {
   "cell_type": "code",
   "execution_count": 26,
   "id": "268e80b6-7d92-4605-8ea2-e438df481b78",
   "metadata": {},
   "outputs": [
    {
     "name": "stdout",
     "output_type": "stream",
     "text": [
      "                      Model  Accuracy  Precision    Recall  F1-score   AUC-ROC\n",
      "0  Random Forest Sebelum GA     0.913   0.903302  0.892774  0.898007  0.910485\n",
      "1  Random Forest Setelah GA     0.922   0.916865  0.899767  0.908235  0.919235\n",
      "2        XGBoost Sebelum GA     0.903   0.880734  0.895105  0.887861  0.902018\n",
      "3        XGBoost Setelah GA     0.911   0.902844  0.888112  0.895417  0.908154\n"
     ]
    }
   ],
   "source": [
    "# Menampilkan hasil evaluasi dalam bentuk tabel\n",
    "df_results = pd.DataFrame(results, columns=[\"Model\", \"Accuracy\", \"Precision\", \"Recall\", \"F1-score\", \"AUC-ROC\"])\n",
    "print(df_results)"
   ]
  },
  {
   "cell_type": "code",
   "execution_count": null,
   "id": "0659b7a6-634a-42af-8eb9-b95e5a1d1d5d",
   "metadata": {},
   "outputs": [],
   "source": []
  }
 ],
 "metadata": {
  "kernelspec": {
   "display_name": "Python 3 (ipykernel)",
   "language": "python",
   "name": "python3"
  },
  "language_info": {
   "codemirror_mode": {
    "name": "ipython",
    "version": 3
   },
   "file_extension": ".py",
   "mimetype": "text/x-python",
   "name": "python",
   "nbconvert_exporter": "python",
   "pygments_lexer": "ipython3",
   "version": "3.10.6"
  }
 },
 "nbformat": 4,
 "nbformat_minor": 5
}
