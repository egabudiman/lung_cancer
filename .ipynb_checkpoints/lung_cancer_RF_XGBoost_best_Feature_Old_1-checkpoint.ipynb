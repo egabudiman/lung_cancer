{
 "cells": [
  {
   "cell_type": "code",
   "execution_count": 25,
   "id": "ef5b5add-8c4e-4553-a150-3213613071f0",
   "metadata": {},
   "outputs": [],
   "source": [
    "# === 1. Import Library ===\n",
    "import pandas as pd\n",
    "import numpy as np\n",
    "import matplotlib.pyplot as plt\n",
    "from sklearn.ensemble import RandomForestClassifier\n",
    "from sklearn.model_selection import train_test_split\n",
    "from sklearn.metrics import accuracy_score, precision_score, recall_score, f1_score, roc_auc_score\n",
    "import xgboost as xgb\n",
    "import random\n",
    "from xgboost import XGBClassifier\n",
    "from deap import base, creator, tools, algorithms\n",
    "\n"
   ]
  },
  {
   "cell_type": "code",
   "execution_count": 26,
   "id": "a525df43-fe20-447a-b79f-665b755ffbae",
   "metadata": {},
   "outputs": [],
   "source": [
    "RANDOM_SEED = 42\n",
    "random.seed(RANDOM_SEED)        # Seed untuk modul random\n",
    "np.random.seed(RANDOM_SEED)     # Seed untuk NumPy\n",
    "\n",
    "# Random Forest dengan random_state tetap\n",
    "rf_model = RandomForestClassifier(random_state=RANDOM_SEED)\n",
    "\n",
    "# XGBoost dengan random_state tetap\n",
    "xgb_model = XGBClassifier(random_state=RANDOM_SEED)"
   ]
  },
  {
   "cell_type": "code",
   "execution_count": 28,
   "id": "a6f7dc2c-1d53-4d1b-88d9-22683e6de160",
   "metadata": {},
   "outputs": [
    {
     "ename": "KeyError",
     "evalue": "'ID'",
     "output_type": "error",
     "traceback": [
      "\u001b[1;31m---------------------------------------------------------------------------\u001b[0m",
      "\u001b[1;31mKeyError\u001b[0m                                  Traceback (most recent call last)",
      "\u001b[1;32m~\\AppData\\Local\\Temp\\ipykernel_23680\\127416340.py\u001b[0m in \u001b[0;36m?\u001b[1;34m()\u001b[0m\n\u001b[0;32m      1\u001b[0m \u001b[1;31m# === 2. Load Dataset ===\u001b[0m\u001b[1;33m\u001b[0m\u001b[1;33m\u001b[0m\u001b[0m\n\u001b[1;32m----> 2\u001b[1;33m \u001b[0mdf\u001b[0m \u001b[1;33m=\u001b[0m \u001b[0mpd\u001b[0m\u001b[1;33m.\u001b[0m\u001b[0mread_csv\u001b[0m\u001b[1;33m(\u001b[0m\u001b[1;34m\"Lung Cancer Dataset.csv\"\u001b[0m\u001b[1;33m)\u001b[0m\u001b[1;33m.\u001b[0m\u001b[0msort_values\u001b[0m\u001b[1;33m(\u001b[0m\u001b[0mby\u001b[0m\u001b[1;33m=\u001b[0m\u001b[1;34m\"ID\"\u001b[0m\u001b[1;33m)\u001b[0m\u001b[1;33m.\u001b[0m\u001b[0mreset_index\u001b[0m\u001b[1;33m(\u001b[0m\u001b[0mdrop\u001b[0m\u001b[1;33m=\u001b[0m\u001b[1;32mTrue\u001b[0m\u001b[1;33m)\u001b[0m\u001b[1;33m\u001b[0m\u001b[1;33m\u001b[0m\u001b[0m\n\u001b[0m\u001b[0;32m      3\u001b[0m \u001b[0mdf\u001b[0m\u001b[1;33m[\u001b[0m\u001b[1;34m'PULMONARY_DISEASE'\u001b[0m\u001b[1;33m]\u001b[0m \u001b[1;33m=\u001b[0m \u001b[0mdf\u001b[0m\u001b[1;33m[\u001b[0m\u001b[1;34m'PULMONARY_DISEASE'\u001b[0m\u001b[1;33m]\u001b[0m\u001b[1;33m.\u001b[0m\u001b[0mmap\u001b[0m\u001b[1;33m(\u001b[0m\u001b[1;33m{\u001b[0m\u001b[1;34m'YES'\u001b[0m\u001b[1;33m:\u001b[0m \u001b[1;36m1\u001b[0m\u001b[1;33m,\u001b[0m \u001b[1;34m'NO'\u001b[0m\u001b[1;33m:\u001b[0m \u001b[1;36m0\u001b[0m\u001b[1;33m}\u001b[0m\u001b[1;33m)\u001b[0m  \u001b[1;31m# Encoding target variable\u001b[0m\u001b[1;33m\u001b[0m\u001b[1;33m\u001b[0m\u001b[0m\n",
      "\u001b[1;32mD:\\laragon\\bin\\python\\python-3.10\\lib\\site-packages\\pandas\\core\\frame.py\u001b[0m in \u001b[0;36m?\u001b[1;34m(self, by, axis, ascending, inplace, kind, na_position, ignore_index, key)\u001b[0m\n\u001b[0;32m   7185\u001b[0m             )\n\u001b[0;32m   7186\u001b[0m         \u001b[1;32melif\u001b[0m \u001b[0mlen\u001b[0m\u001b[1;33m(\u001b[0m\u001b[0mby\u001b[0m\u001b[1;33m)\u001b[0m\u001b[1;33m:\u001b[0m\u001b[1;33m\u001b[0m\u001b[1;33m\u001b[0m\u001b[0m\n\u001b[0;32m   7187\u001b[0m             \u001b[1;31m# len(by) == 1\u001b[0m\u001b[1;33m\u001b[0m\u001b[1;33m\u001b[0m\u001b[0m\n\u001b[0;32m   7188\u001b[0m \u001b[1;33m\u001b[0m\u001b[0m\n\u001b[1;32m-> 7189\u001b[1;33m             \u001b[0mk\u001b[0m \u001b[1;33m=\u001b[0m \u001b[0mself\u001b[0m\u001b[1;33m.\u001b[0m\u001b[0m_get_label_or_level_values\u001b[0m\u001b[1;33m(\u001b[0m\u001b[0mby\u001b[0m\u001b[1;33m[\u001b[0m\u001b[1;36m0\u001b[0m\u001b[1;33m]\u001b[0m\u001b[1;33m,\u001b[0m \u001b[0maxis\u001b[0m\u001b[1;33m=\u001b[0m\u001b[0maxis\u001b[0m\u001b[1;33m)\u001b[0m\u001b[1;33m\u001b[0m\u001b[1;33m\u001b[0m\u001b[0m\n\u001b[0m\u001b[0;32m   7190\u001b[0m \u001b[1;33m\u001b[0m\u001b[0m\n\u001b[0;32m   7191\u001b[0m             \u001b[1;31m# need to rewrap column in Series to apply key function\u001b[0m\u001b[1;33m\u001b[0m\u001b[1;33m\u001b[0m\u001b[0m\n\u001b[0;32m   7192\u001b[0m             \u001b[1;32mif\u001b[0m \u001b[0mkey\u001b[0m \u001b[1;32mis\u001b[0m \u001b[1;32mnot\u001b[0m \u001b[1;32mNone\u001b[0m\u001b[1;33m:\u001b[0m\u001b[1;33m\u001b[0m\u001b[1;33m\u001b[0m\u001b[0m\n",
      "\u001b[1;32mD:\\laragon\\bin\\python\\python-3.10\\lib\\site-packages\\pandas\\core\\generic.py\u001b[0m in \u001b[0;36m?\u001b[1;34m(self, key, axis)\u001b[0m\n\u001b[0;32m   1907\u001b[0m             \u001b[0mvalues\u001b[0m \u001b[1;33m=\u001b[0m \u001b[0mself\u001b[0m\u001b[1;33m.\u001b[0m\u001b[0mxs\u001b[0m\u001b[1;33m(\u001b[0m\u001b[0mkey\u001b[0m\u001b[1;33m,\u001b[0m \u001b[0maxis\u001b[0m\u001b[1;33m=\u001b[0m\u001b[0mother_axes\u001b[0m\u001b[1;33m[\u001b[0m\u001b[1;36m0\u001b[0m\u001b[1;33m]\u001b[0m\u001b[1;33m)\u001b[0m\u001b[1;33m.\u001b[0m\u001b[0m_values\u001b[0m\u001b[1;33m\u001b[0m\u001b[1;33m\u001b[0m\u001b[0m\n\u001b[0;32m   1908\u001b[0m         \u001b[1;32melif\u001b[0m \u001b[0mself\u001b[0m\u001b[1;33m.\u001b[0m\u001b[0m_is_level_reference\u001b[0m\u001b[1;33m(\u001b[0m\u001b[0mkey\u001b[0m\u001b[1;33m,\u001b[0m \u001b[0maxis\u001b[0m\u001b[1;33m=\u001b[0m\u001b[0maxis\u001b[0m\u001b[1;33m)\u001b[0m\u001b[1;33m:\u001b[0m\u001b[1;33m\u001b[0m\u001b[1;33m\u001b[0m\u001b[0m\n\u001b[0;32m   1909\u001b[0m             \u001b[0mvalues\u001b[0m \u001b[1;33m=\u001b[0m \u001b[0mself\u001b[0m\u001b[1;33m.\u001b[0m\u001b[0maxes\u001b[0m\u001b[1;33m[\u001b[0m\u001b[0maxis\u001b[0m\u001b[1;33m]\u001b[0m\u001b[1;33m.\u001b[0m\u001b[0mget_level_values\u001b[0m\u001b[1;33m(\u001b[0m\u001b[0mkey\u001b[0m\u001b[1;33m)\u001b[0m\u001b[1;33m.\u001b[0m\u001b[0m_values\u001b[0m\u001b[1;33m\u001b[0m\u001b[1;33m\u001b[0m\u001b[0m\n\u001b[0;32m   1910\u001b[0m         \u001b[1;32melse\u001b[0m\u001b[1;33m:\u001b[0m\u001b[1;33m\u001b[0m\u001b[1;33m\u001b[0m\u001b[0m\n\u001b[1;32m-> 1911\u001b[1;33m             \u001b[1;32mraise\u001b[0m \u001b[0mKeyError\u001b[0m\u001b[1;33m(\u001b[0m\u001b[0mkey\u001b[0m\u001b[1;33m)\u001b[0m\u001b[1;33m\u001b[0m\u001b[1;33m\u001b[0m\u001b[0m\n\u001b[0m\u001b[0;32m   1912\u001b[0m \u001b[1;33m\u001b[0m\u001b[0m\n\u001b[0;32m   1913\u001b[0m         \u001b[1;31m# Check for duplicates\u001b[0m\u001b[1;33m\u001b[0m\u001b[1;33m\u001b[0m\u001b[0m\n\u001b[0;32m   1914\u001b[0m         \u001b[1;32mif\u001b[0m \u001b[0mvalues\u001b[0m\u001b[1;33m.\u001b[0m\u001b[0mndim\u001b[0m \u001b[1;33m>\u001b[0m \u001b[1;36m1\u001b[0m\u001b[1;33m:\u001b[0m\u001b[1;33m\u001b[0m\u001b[1;33m\u001b[0m\u001b[0m\n",
      "\u001b[1;31mKeyError\u001b[0m: 'ID'"
     ]
    }
   ],
   "source": [
    "# === 2. Load Dataset ===\n",
    "df = pd.read_csv(\"Lung Cancer Dataset.csv\")\n",
    "df['PULMONARY_DISEASE'] = df['PULMONARY_DISEASE'].map({'YES': 1, 'NO': 0})  # Encoding target variable\n",
    "# Urutkan berdasarkan fitur yang diinginkan\n",
    "ordered_features = [\n",
    "    \"AGE\", \"GENDER\", \"SMOKING\", \"FINGER_DISCOLORATION\", \"MENTAL_STRESS\", \n",
    "    \"EXPOSURE_TO_POLLUTION\", \"LONG_TERM_ILLNESS\", \"ENERGY_LEVEL\", \"IMMUNE_WEAKNESS\", \n",
    "    \"BREATHING_ISSUE\", \"ALCOHOL_CONSUMPTION\", \"THROAT_DISCOMFORT\", \"OXYGEN_SATURATION\", \n",
    "    \"CHEST_TIGHTNESS\", \"FAMILY_HISTORY\", \"SMOKING_FAMILY_HISTORY\", \"STRESS_IMMUNE\"\n",
    "]\n"
   ]
  },
  {
   "cell_type": "code",
   "execution_count": 3,
   "id": "86f1c85c-94c6-4f80-828a-77c1bd3f58b7",
   "metadata": {},
   "outputs": [],
   "source": [
    "# Pisahkan fitur dan target\n",
    "X = df.drop(columns=['PULMONARY_DISEASE'])\n",
    "y = df['PULMONARY_DISEASE']"
   ]
  },
  {
   "cell_type": "code",
   "execution_count": 6,
   "id": "1b6c094a-da20-4c80-9d17-b4a45330074a",
   "metadata": {},
   "outputs": [],
   "source": [
    "# Konversi fitur kategori ke numerik (jika ada)\n",
    "X = pd.get_dummies(X)"
   ]
  },
  {
   "cell_type": "code",
   "execution_count": 7,
   "id": "d102d6ec-2452-4375-9de6-25408dcaa480",
   "metadata": {},
   "outputs": [],
   "source": [
    "# Split data\n",
    "# Membagi data dengan random_state agar hasil tetap sama\n",
    "X_train, X_test, y_train, y_test = train_test_split(\n",
    "    X, y, test_size=0.2, random_state=RANDOM_SEED, stratify=y\n",
    ")"
   ]
  },
  {
   "cell_type": "code",
   "execution_count": 8,
   "id": "78d32df6-8383-4501-8a48-845fa0a1db63",
   "metadata": {},
   "outputs": [],
   "source": [
    "# === 3. Parameter Genetic Algorithm ===\n",
    "POPULATION_SIZE = 20  # Ukuran populasi\n",
    "N_GENERATIONS = 50  # Jumlah iterasi generasi\n",
    "MUTATION_RATE = 0.2  # Peluang mutasi"
   ]
  },
  {
   "cell_type": "code",
   "execution_count": 11,
   "id": "bc914602-6387-4509-ba04-97bcfcb0e02a",
   "metadata": {},
   "outputs": [],
   "source": [
    "\n",
    "# Inisialisasi GA\n",
    "creator.create(\"FitnessMax\", base.Fitness, weights=(1.0,))\n",
    "creator.create(\"Individual\", list, fitness=creator.FitnessMax)\n",
    "\n"
   ]
  },
  {
   "cell_type": "code",
   "execution_count": 12,
   "id": "08a348a1-e8c7-41e4-90b1-e1a8b5a38934",
   "metadata": {},
   "outputs": [],
   "source": [
    "toolbox = base.Toolbox()\n",
    "toolbox.register(\"attr_bool\", np.random.randint, 0, 2)\n",
    "toolbox.register(\"individual\", tools.initRepeat, creator.Individual, toolbox.attr_bool, n=len(X.columns))\n",
    "toolbox.register(\"population\", tools.initRepeat, list, toolbox.individual)"
   ]
  },
  {
   "cell_type": "code",
   "execution_count": 13,
   "id": "e4f0975b-f65b-4fd3-9424-71668ec1040f",
   "metadata": {},
   "outputs": [],
   "source": [
    "# === 4. Genetic Algorithm for Feature Selection (Random Forest) ===\n",
    "def evaluate_rf(individual):\n",
    "    selected_features = [col for i, col in enumerate(X.columns) if individual[i] == 1]\n",
    "    if len(selected_features) == 0:\n",
    "        return 0,\n",
    "    X_selected = X[selected_features]\n",
    "    X_train_sel, X_test_sel, y_train_sel, y_test_sel = train_test_split(X_selected, y, test_size=0.2, random_state=42)\n",
    "    model = RandomForestClassifier(n_estimators=100, random_state=42)\n",
    "    scores = accuracy_score(y_test_sel, model.fit(X_train_sel, y_train_sel).predict(X_test_sel))\n",
    "    return scores,\n",
    "\n",
    "toolbox.register(\"evaluate\", evaluate_rf)\n",
    "toolbox.register(\"mate\", tools.cxTwoPoint)\n",
    "toolbox.register(\"mutate\", tools.mutFlipBit, indpb=MUTATION_RATE)\n",
    "toolbox.register(\"select\", tools.selTournament, tournsize=3)"
   ]
  },
  {
   "cell_type": "code",
   "execution_count": 14,
   "id": "7b6c0282-2537-44e2-ba4a-074c4c9b8c9d",
   "metadata": {},
   "outputs": [],
   "source": [
    "# Simpan nilai fitness terbaik tiap generasi\n",
    "best_fitness_per_generation = []"
   ]
  },
  {
   "cell_type": "code",
   "execution_count": 15,
   "id": "88e83b6f-ad17-46a4-9827-e042887bfdb0",
   "metadata": {},
   "outputs": [
    {
     "name": "stdout",
     "output_type": "stream",
     "text": [
      "Running Genetic Algorithm for 50 generations...\n",
      "\n",
      "gen\tnevals\tmax  \tmin \tavg    \n",
      "0  \t20    \t0.844\t0.54\t0.67785\n",
      "1  \t12    \t0.886\t0.637\t0.7568 \n",
      "2  \t10    \t0.886\t0.71 \t0.8138 \n",
      "3  \t17    \t0.916\t0.731\t0.8468 \n",
      "4  \t16    \t0.916\t0.683\t0.8657 \n",
      "5  \t12    \t0.918\t0.631\t0.87185\n",
      "6  \t11    \t0.918\t0.585\t0.881  \n",
      "7  \t14    \t0.918\t0.642\t0.88   \n",
      "8  \t9     \t0.918\t0.807\t0.9105 \n",
      "9  \t14    \t0.918\t0.88 \t0.9144 \n",
      "10 \t11    \t0.918\t0.804\t0.9118 \n",
      "11 \t10    \t0.918\t0.66 \t0.88145\n",
      "12 \t12    \t0.918\t0.777\t0.90505\n",
      "13 \t12    \t0.918\t0.693\t0.88845\n",
      "14 \t16    \t0.918\t0.798\t0.90685\n",
      "15 \t6     \t0.918\t0.815\t0.90725\n",
      "16 \t15    \t0.918\t0.612\t0.8548 \n",
      "17 \t13    \t0.918\t0.697\t0.891  \n",
      "18 \t18    \t0.918\t0.751\t0.90235\n",
      "19 \t8     \t0.918\t0.801\t0.9097 \n",
      "20 \t12    \t0.918\t0.847\t0.9121 \n",
      "21 \t18    \t0.918\t0.775\t0.89885\n",
      "22 \t12    \t0.918\t0.711\t0.8972 \n",
      "23 \t9     \t0.918\t0.698\t0.89875\n",
      "24 \t8     \t0.918\t0.725\t0.9008 \n",
      "25 \t11    \t0.918\t0.907\t0.9174 \n",
      "26 \t4     \t0.918\t0.764\t0.8951 \n",
      "27 \t12    \t0.918\t0.665\t0.8755 \n",
      "28 \t16    \t0.918\t0.662\t0.88145\n",
      "29 \t10    \t0.918\t0.745\t0.8943 \n",
      "30 \t9     \t0.918\t0.853\t0.9147 \n",
      "31 \t14    \t0.918\t0.741\t0.8964 \n",
      "32 \t13    \t0.918\t0.828\t0.91025\n",
      "33 \t8     \t0.918\t0.68 \t0.8962 \n",
      "34 \t9     \t0.918\t0.763\t0.90345\n",
      "35 \t14    \t0.918\t0.82 \t0.9036 \n",
      "36 \t12    \t0.918\t0.644\t0.8894 \n",
      "37 \t5     \t0.918\t0.708\t0.90735\n",
      "38 \t12    \t0.918\t0.918\t0.918  \n",
      "39 \t9     \t0.918\t0.699\t0.8943 \n",
      "40 \t9     \t0.918\t0.81 \t0.91065\n",
      "41 \t9     \t0.918\t0.716\t0.9052 \n",
      "42 \t10    \t0.918\t0.643\t0.89595\n",
      "43 \t10    \t0.918\t0.817\t0.9063 \n",
      "44 \t12    \t0.918\t0.683\t0.89155\n",
      "45 \t15    \t0.918\t0.738\t0.89455\n",
      "46 \t11    \t0.918\t0.705\t0.89685\n",
      "47 \t16    \t0.918\t0.633\t0.88215\n",
      "48 \t9     \t0.918\t0.722\t0.8851 \n",
      "49 \t14    \t0.918\t0.834\t0.9097 \n",
      "50 \t14    \t0.918\t0.743\t0.903  \n",
      "\n",
      "Fitur Terbaik yang Dipilih oleh GA untuk Random Forest:\n",
      "['AGE', 'GENDER', 'SMOKING', 'FINGER_DISCOLORATION', 'MENTAL_STRESS', 'EXPOSURE_TO_POLLUTION', 'ENERGY_LEVEL', 'BREATHING_ISSUE', 'THROAT_DISCOMFORT', 'OXYGEN_SATURATION', 'FAMILY_HISTORY', 'SMOKING_FAMILY_HISTORY', 'STRESS_IMMUNE']\n"
     ]
    }
   ],
   "source": [
    "# Jalankan GA untuk RF\n",
    "population = toolbox.population(n=POPULATION_SIZE)\n",
    "hof = tools.HallOfFame(1)\n",
    "\n",
    "# Menjalankan GA dalam satu kali pemanggilan untuk semua generasi\n",
    "stats = tools.Statistics(lambda ind: ind.fitness.values)\n",
    "stats.register(\"max\", np.max)\n",
    "stats.register(\"min\", np.min)\n",
    "stats.register(\"avg\", np.mean)\n",
    "\n",
    "print(f\"Running Genetic Algorithm for {N_GENERATIONS} generations...\\n\")\n",
    "\n",
    "# Jalankan GA satu kali untuk semua generasi\n",
    "population, logbook = algorithms.eaSimple(population, toolbox, cxpb=0.5, mutpb=0.2, \n",
    "                                          ngen=N_GENERATIONS, stats=stats, halloffame=hof, verbose=True)\n",
    "\n",
    "# Simpan nilai fitness terbaik dari setiap generasi\n",
    "best_fitness_per_generation = logbook.select(\"max\")\n",
    "\n",
    "# Pastikan bahwa GA berhasil menemukan individu terbaik\n",
    "if len(hof) > 0:\n",
    "    best_features_rf = [col for i, col in enumerate(X.columns) if hof[0][i] == 1]\n",
    "    print(\"\\nFitur Terbaik yang Dipilih oleh GA untuk Random Forest:\")\n",
    "    print(best_features_rf)\n",
    "else:\n",
    "    print(\"⚠️ GA tidak menemukan individu terbaik. Periksa kembali parameter GA.\")\n",
    "    best_features_rf = []\n"
   ]
  },
  {
   "cell_type": "code",
   "execution_count": 16,
   "id": "ff81e50f-6f68-4d29-8e45-c8b5c77e8b4d",
   "metadata": {},
   "outputs": [],
   "source": [
    "# === 5. Genetic Algorithm for Feature Selection (XGBoost) ===\n",
    "def evaluate_xgb(individual):\n",
    "    selected_features = [col for i, col in enumerate(X.columns) if individual[i] == 1]\n",
    "    if len(selected_features) == 0:\n",
    "        return 0,\n",
    "    X_selected = X[selected_features]\n",
    "    X_train_sel, X_test_sel, y_train_sel, y_test_sel = train_test_split(X_selected, y, test_size=0.2, random_state=42)\n",
    "    model = XGBClassifier(n_estimators=100, random_state=42, eval_metric=\"logloss\")\n",
    "    scores = accuracy_score(y_test_sel, model.fit(X_train_sel, y_train_sel).predict(X_test_sel))\n",
    "    return scores,\n",
    "\n",
    "toolbox.register(\"evaluate\", evaluate_xgb)"
   ]
  },
  {
   "cell_type": "code",
   "execution_count": 19,
   "id": "5e39e6b3-3dc8-4c91-8189-7cd8dfc9a6ac",
   "metadata": {},
   "outputs": [],
   "source": [
    "# Simpan nilai fitness terbaik tiap generasi untuk XGBoost\n",
    "best_fitness_per_generation_xgb = []"
   ]
  },
  {
   "cell_type": "code",
   "execution_count": 20,
   "id": "54a2ce7c-0a4b-4e2d-adcd-1361667e7821",
   "metadata": {},
   "outputs": [
    {
     "name": "stdout",
     "output_type": "stream",
     "text": [
      "Running Genetic Algorithm for XGBoost with 50 generations...\n",
      "\n",
      "gen\tnevals\tmax  \tmin  \tavg    \n",
      "0  \t20    \t0.894\t0.599\t0.73075\n",
      "1  \t15    \t0.9  \t0.678\t0.82615\n",
      "2  \t15    \t0.9  \t0.786\t0.87085\n",
      "3  \t8     \t0.9  \t0.808\t0.88655\n",
      "4  \t13    \t0.907\t0.766\t0.8816 \n",
      "5  \t8     \t0.907\t0.658\t0.87905\n",
      "6  \t12    \t0.907\t0.681\t0.88075\n",
      "7  \t9     \t0.907\t0.805\t0.89305\n",
      "8  \t9     \t0.907\t0.662\t0.8833 \n",
      "9  \t13    \t0.907\t0.694\t0.88765\n",
      "10 \t13    \t0.907\t0.719\t0.8862 \n",
      "11 \t10    \t0.907\t0.625\t0.8571 \n",
      "12 \t15    \t0.907\t0.723\t0.87515\n",
      "13 \t13    \t0.907\t0.829\t0.89315\n",
      "14 \t15    \t0.907\t0.742\t0.87475\n",
      "15 \t11    \t0.907\t0.836\t0.9    \n",
      "16 \t11    \t0.907\t0.749\t0.8924 \n",
      "17 \t13    \t0.907\t0.763\t0.88715\n",
      "18 \t10    \t0.907\t0.771\t0.8951 \n",
      "19 \t14    \t0.907\t0.688\t0.8854 \n",
      "20 \t14    \t0.907\t0.65 \t0.8915 \n",
      "21 \t15    \t0.907\t0.74 \t0.885  \n",
      "22 \t15    \t0.907\t0.761\t0.8892 \n",
      "23 \t16    \t0.907\t0.651\t0.87665\n",
      "24 \t13    \t0.907\t0.762\t0.88765\n",
      "25 \t15    \t0.907\t0.752\t0.879  \n",
      "26 \t11    \t0.907\t0.764\t0.89895\n",
      "27 \t12    \t0.907\t0.726\t0.8874 \n",
      "28 \t13    \t0.907\t0.892\t0.9048 \n",
      "29 \t12    \t0.907\t0.649\t0.8907 \n",
      "30 \t9     \t0.907\t0.767\t0.89935\n",
      "31 \t11    \t0.907\t0.786\t0.89155\n",
      "32 \t16    \t0.907\t0.736\t0.88775\n",
      "33 \t11    \t0.907\t0.679\t0.8689 \n",
      "34 \t13    \t0.907\t0.705\t0.88105\n",
      "35 \t9     \t0.907\t0.735\t0.8983 \n",
      "36 \t15    \t0.907\t0.771\t0.89195\n",
      "37 \t10    \t0.907\t0.851\t0.90015\n",
      "38 \t10    \t0.907\t0.715\t0.8858 \n",
      "39 \t10    \t0.908\t0.634\t0.8639 \n",
      "40 \t11    \t0.908\t0.787\t0.89815\n",
      "41 \t7     \t0.908\t0.819\t0.89925\n",
      "42 \t17    \t0.908\t0.676\t0.89225\n",
      "43 \t14    \t0.908\t0.677\t0.8797 \n",
      "44 \t9     \t0.908\t0.702\t0.8838 \n",
      "45 \t11    \t0.908\t0.855\t0.90455\n",
      "46 \t16    \t0.908\t0.796\t0.89745\n",
      "47 \t11    \t0.908\t0.682\t0.8916 \n",
      "48 \t13    \t0.908\t0.761\t0.87505\n",
      "49 \t16    \t0.91 \t0.783\t0.8975 \n",
      "50 \t18    \t0.91 \t0.783\t0.8972 \n",
      "\n",
      "Fitur Terbaik yang Dipilih oleh GA untuk XGBoost:\n",
      "['GENDER', 'SMOKING', 'MENTAL_STRESS', 'EXPOSURE_TO_POLLUTION', 'ENERGY_LEVEL', 'BREATHING_ISSUE', 'THROAT_DISCOMFORT', 'SMOKING_FAMILY_HISTORY', 'STRESS_IMMUNE']\n"
     ]
    }
   ],
   "source": [
    "# Jalankan GA untuk XGBoost\n",
    "population = toolbox.population(n=POPULATION_SIZE)\n",
    "hof = tools.HallOfFame(1)\n",
    "\n",
    "# Menjalankan GA dalam satu kali pemanggilan untuk semua generasi\n",
    "stats = tools.Statistics(lambda ind: ind.fitness.values)\n",
    "stats.register(\"max\", np.max)\n",
    "stats.register(\"min\", np.min)\n",
    "stats.register(\"avg\", np.mean)\n",
    "\n",
    "print(f\"Running Genetic Algorithm for XGBoost with {N_GENERATIONS} generations...\\n\")\n",
    "\n",
    "# Jalankan GA satu kali untuk semua generasi\n",
    "population, logbook = algorithms.eaSimple(population, toolbox, cxpb=0.5, mutpb=0.2, \n",
    "                                          ngen=N_GENERATIONS, stats=stats, halloffame=hof, verbose=True)\n",
    "\n",
    "# Simpan nilai fitness terbaik dari setiap generasi\n",
    "#best_fitness_per_generation_xgb = logbook.select(\"max\")\n",
    "best_fitness_per_generation_xgb = logbook.select(\"max\")[1:]  # Hilangkan nilai generasi 0\n",
    "# Pastikan bahwa GA berhasil menemukan individu terbaik\n",
    "if len(hof) > 0:\n",
    "    best_features_xgb = [col for i, col in enumerate(X.columns) if hof[0][i] == 1]\n",
    "    print(\"\\nFitur Terbaik yang Dipilih oleh GA untuk XGBoost:\")\n",
    "    print(best_features_xgb)\n",
    "else:\n",
    "    print(\"⚠️ GA tidak menemukan individu terbaik untuk XGBoost. Periksa kembali parameter GA.\")\n",
    "    best_features_xgb = []\n"
   ]
  },
  {
   "cell_type": "code",
   "execution_count": 23,
   "id": "520c6464-928c-4822-a3e0-ce777b35a013",
   "metadata": {},
   "outputs": [
    {
     "data": {
      "image/png": "[encoded data removed]",
      "text/plain": [
       "<Figure size 800x500 with 1 Axes>"
      ]
     },
     "metadata": {},
     "output_type": "display_data"
    }
   ],
   "source": [
    "# === 6. Visualisasi Konvergensi GA ===\n",
    "plt.figure(figsize=(8, 5))\n",
    "\n",
    "# Pastikan jumlah data cocok dengan jumlah generasi\n",
    "generations = list(range(1, N_GENERATIONS+1))  # Mulai dari 1 agar generasi 0 tidak ikut\n",
    "\n",
    "# Plot konvergensi untuk Random Forest\n",
    "plt.plot(generations, best_fitness_per_generation[:N_GENERATIONS], \n",
    "         marker='o', linestyle='-', color='b', label='RF Fitness Score')\n",
    "\n",
    "# Plot konvergensi untuk XGBoost\n",
    "plt.plot(generations, best_fitness_per_generation_xgb[:N_GENERATIONS], \n",
    "         marker='o', linestyle='-', color='r', label='XGB Fitness Score')\n",
    "\n",
    "# Garis vertikal sebagai tanda stabilisasi\n",
    "plt.axvline(x=40, linestyle='--', color='gray', label='Stabilization Point')\n",
    "\n",
    "# Judul dan label\n",
    "plt.title(\"GA Convergence Over 50 Generations\")\n",
    "plt.xlabel(\"Generation\")\n",
    "plt.ylabel(\"Best Fitness Score\")\n",
    "plt.legend()\n",
    "plt.grid()\n",
    "\n",
    "# Tampilkan grafik\n",
    "plt.show()\n"
   ]
  },
  {
   "cell_type": "code",
   "execution_count": 23,
   "id": "4e025005-b6b8-4d55-a53b-c44de9c19c81",
   "metadata": {},
   "outputs": [],
   "source": [
    "# === 7. Evaluasi Model ===\n",
    "def evaluate_model(model, X_train, X_test, y_train, y_test, desc):\n",
    "    model.fit(X_train, y_train)\n",
    "    y_pred = model.predict(X_test)\n",
    "    acc = accuracy_score(y_test, y_pred)\n",
    "    precision = precision_score(y_test, y_pred)\n",
    "    recall = recall_score(y_test, y_pred)\n",
    "    f1 = f1_score(y_test, y_pred)\n",
    "    auc = roc_auc_score(y_test, y_pred)\n",
    "    return [desc, acc, precision, recall, f1, auc]\n",
    "\n",
    "results=[]"
   ]
  },
  {
   "cell_type": "code",
   "execution_count": 24,
   "id": "deea7333-c8b8-4201-ae71-78656ea213f5",
   "metadata": {},
   "outputs": [],
   "source": [
    "# Evaluasi Random Forest\n",
    "results.append(evaluate_model(RandomForestClassifier(n_estimators=100, random_state=42), X_train, X_test, y_train, y_test, \"Random Forest Sebelum GA\"))\n",
    "results.append(evaluate_model(RandomForestClassifier(n_estimators=100, random_state=42), X_train[best_features_rf], X_test[best_features_rf], y_train, y_test, \"Random Forest Setelah GA\"))\n"
   ]
  },
  {
   "cell_type": "code",
   "execution_count": 25,
   "id": "5d85a347-0e64-4399-b430-6df46d34328a",
   "metadata": {},
   "outputs": [],
   "source": [
    "# Evaluasi XGBoost\n",
    "results.append(evaluate_model(XGBClassifier(n_estimators=100, random_state=42, eval_metric=\"logloss\"), X_train, X_test, y_train, y_test, \"XGBoost Sebelum GA\"))\n",
    "results.append(evaluate_model(XGBClassifier(n_estimators=100, random_state=42, eval_metric=\"logloss\"), X_train[best_features_xgb], X_test[best_features_xgb], y_train, y_test, \"XGBoost Setelah GA\"))\n"
   ]
  },
  {
   "cell_type": "code",
   "execution_count": 26,
   "id": "268e80b6-7d92-4605-8ea2-e438df481b78",
   "metadata": {},
   "outputs": [
    {
     "name": "stdout",
     "output_type": "stream",
     "text": [
      "                      Model  Accuracy  Precision    Recall  F1-score   AUC-ROC\n",
      "0  Random Forest Sebelum GA     0.913   0.903302  0.892774  0.898007  0.910485\n",
      "1  Random Forest Setelah GA     0.922   0.916865  0.899767  0.908235  0.919235\n",
      "2        XGBoost Sebelum GA     0.903   0.880734  0.895105  0.887861  0.902018\n",
      "3        XGBoost Setelah GA     0.911   0.902844  0.888112  0.895417  0.908154\n"
     ]
    }
   ],
   "source": [
    "# Menampilkan hasil evaluasi dalam bentuk tabel\n",
    "df_results = pd.DataFrame(results, columns=[\"Model\", \"Accuracy\", \"Precision\", \"Recall\", \"F1-score\", \"AUC-ROC\"])\n",
    "print(df_results)"
   ]
  },
  {
   "cell_type": "code",
   "execution_count": 21,
   "id": "0659b7a6-634a-42af-8eb9-b95e5a1d1d5d",
   "metadata": {},
   "outputs": [
    {
     "name": "stdout",
     "output_type": "stream",
     "text": [
      "\n",
      "Hasil Evaluasi Model:\n",
      "           Model  Accuracy  Precision    Recall  F1-score   AUC-ROC\n",
      "0  Random Forest     0.922   0.916865  0.899767  0.908235  0.931531\n",
      "1        XGBoost     0.911   0.902844  0.888112  0.895417  0.927935\n"
     ]
    },
    {
     "data": {
      "image/png": "[encoded data removed]",
      "text/plain": [
       "<Figure size 800x600 with 1 Axes>"
      ]
     },
     "metadata": {},
     "output_type": "display_data"
    }
   ],
   "source": [
    "# === 4. Evaluasi Model ===\n",
    "def evaluate_model(model, X_train, X_test, y_train, y_test, desc):\n",
    "    \"\"\" Fungsi untuk mengevaluasi model dengan metrik akurasi, presisi, recall, F1-score, dan AUC-ROC \"\"\"\n",
    "    model.fit(X_train, y_train)\n",
    "    y_pred = model.predict(X_test)\n",
    "    y_probs = model.predict_proba(X_test)[:, 1]  # Probabilitas kelas positif untuk AUC-ROC\n",
    "    acc = accuracy_score(y_test, y_pred)\n",
    "    precision = precision_score(y_test, y_pred)\n",
    "    recall = recall_score(y_test, y_pred)\n",
    "    f1 = f1_score(y_test, y_pred)\n",
    "    auc_roc = roc_auc_score(y_test, y_probs)\n",
    "    return [desc, acc, precision, recall, f1, auc_roc]\n",
    "\n",
    "# List untuk menyimpan hasil evaluasi\n",
    "results = []\n",
    "\n",
    "# Evaluasi Random Forest\n",
    "rf_model = RandomForestClassifier(n_estimators=100, random_state=42)\n",
    "results.append(evaluate_model(rf_model, X_train[best_features_rf], X_test[best_features_rf], y_train, y_test, \"Random Forest\"))\n",
    "\n",
    "# Evaluasi XGBoost\n",
    "xgb_model = XGBClassifier(n_estimators=100, random_state=42, eval_metric=\"logloss\")\n",
    "results.append(evaluate_model(xgb_model, X_train[best_features_xgb], X_test[best_features_xgb], y_train, y_test, \"XGBoost\"))\n",
    "\n",
    "# Menampilkan hasil evaluasi dalam bentuk tabel\n",
    "df_results = pd.DataFrame(results, columns=[\"Model\", \"Accuracy\", \"Precision\", \"Recall\", \"F1-score\", \"AUC-ROC\"])\n",
    "print(\"\\nHasil Evaluasi Model:\")\n",
    "print(df_results)\n",
    "\n",
    "# === 5. Visualisasi Kurva ROC-AUC ===\n",
    "plt.figure(figsize=(8, 6))\n",
    "\n",
    "def plot_roc_auc(model, X_test, y_test, model_name):\n",
    "    \"\"\" Fungsi untuk menampilkan kurva ROC-AUC \"\"\"\n",
    "    y_probs = model.predict_proba(X_test)[:, 1]  # Probabilitas kelas positif\n",
    "    fpr, tpr, _ = roc_curve(y_test, y_probs)\n",
    "    roc_auc = auc(fpr, tpr)\n",
    "    plt.plot(fpr, tpr, label=f\"{model_name} (AUC = {roc_auc:.3f})\")\n",
    "\n",
    "# Plot ROC-AUC untuk RF dan XGB\n",
    "plot_roc_auc(rf_model, X_test[best_features_rf], y_test, \"Random Forest\")\n",
    "plot_roc_auc(xgb_model, X_test[best_features_xgb], y_test, \"XGBoost\")\n",
    "\n",
    "# Menambahkan garis diagonal sebagai referensi\n",
    "plt.plot([0, 1], [0, 1], 'k--')\n",
    "plt.xlabel(\"False Positive Rate\")\n",
    "plt.ylabel(\"True Positive Rate\")\n",
    "plt.title(\"ROC-AUC Curve for Lung Cancer Classification\")\n",
    "plt.legend(loc=\"lower right\")\n",
    "plt.grid()\n",
    "plt.show()"
   ]
  },
  {
   "cell_type": "code",
   "execution_count": 18,
   "id": "a243ba41-c219-48cf-bfe8-99bcdc4c75c7",
   "metadata": {},
   "outputs": [
    {
     "name": "stdout",
     "output_type": "stream",
     "text": [
      "['In', 'MUTATION_RATE', 'N_GENERATIONS', 'Out', 'POPULATION_SIZE', 'RandomForestClassifier', 'X', 'XGBClassifier', 'X_test', 'X_train', '_', '__', '___', '__builtin__', '__builtins__', '__doc__', '__loader__', '__name__', '__package__', '__session__', '__spec__', '_dh', '_i', '_i1', '_i10', '_i11', '_i12', '_i13', '_i14', '_i15', '_i16', '_i17', '_i18', '_i2', '_i3', '_i4', '_i5', '_i6', '_i7', '_i8', '_i9', '_ih', '_ii', '_iii', '_oh', 'accuracy_score', 'algorithms', 'base', 'best_features_rf', 'best_fitness_per_generation', 'best_fitness_per_generation_xgb', 'creator', 'df', 'evaluate_rf', 'evaluate_xgb', 'exit', 'f1_score', 'get_ipython', 'hof', 'logbook', 'np', 'open', 'pd', 'plt', 'population', 'precision_score', 'quit', 'recall_score', 'roc_auc_score', 'stats', 'toolbox', 'tools', 'train_test_split', 'xgb', 'y', 'y_test', 'y_train']\n"
     ]
    }
   ],
   "source": [
    "print(dir())"
   ]
  },
  {
   "cell_type": "code",
   "execution_count": null,
   "id": "a30bde86-03b8-4fad-829f-e0c0e04f6e15",
   "metadata": {},
   "outputs": [],
   "source": []
  }
 ],
 "metadata": {
  "kernelspec": {
   "display_name": "Python 3 (ipykernel)",
   "language": "python",
   "name": "python3"
  },
  "language_info": {
   "codemirror_mode": {
    "name": "ipython",
    "version": 3
   },
   "file_extension": ".py",
   "mimetype": "text/x-python",
   "name": "python",
   "nbconvert_exporter": "python",
   "pygments_lexer": "ipython3",
   "version": "3.10.6"
  }
 },
 "nbformat": 4,
 "nbformat_minor": 5
}
