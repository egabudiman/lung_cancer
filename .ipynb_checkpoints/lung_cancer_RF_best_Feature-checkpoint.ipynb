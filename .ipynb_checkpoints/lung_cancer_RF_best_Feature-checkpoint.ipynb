{
 "cells": [
  {
   "cell_type": "code",
   "execution_count": 14,
   "id": "d89742a0-08d4-4df8-8a17-0855838a170d",
   "metadata": {},
   "outputs": [
    {
     "name": "stdout",
     "output_type": "stream",
     "text": [
      "Collecting xgboost\n",
      "  Downloading xgboost-3.0.0-py3-none-win_amd64.whl.metadata (2.1 kB)\n",
      "Requirement already satisfied: numpy in d:\\laragon\\bin\\python\\python-3.10\\lib\\site-packages (from xgboost) (2.2.4)\n",
      "Requirement already satisfied: scipy in d:\\laragon\\bin\\python\\python-3.10\\lib\\site-packages (from xgboost) (1.15.2)\n",
      "Downloading xgboost-3.0.0-py3-none-win_amd64.whl (150.0 MB)\n",
      "   ---------------------------------------- 0.0/150.0 MB ? eta -:--:--\n",
      "   ---------------------------------------- 0.0/150.0 MB ? eta -:--:--\n",
      "   ---------------------------------------- 0.0/150.0 MB ? eta -:--:--\n",
      "   ---------------------------------------- 0.3/150.0 MB ? eta -:--:--\n",
      "   ---------------------------------------- 0.5/150.0 MB 1.3 MB/s eta 0:01:57\n",
      "   ---------------------------------------- 0.8/150.0 MB 1.4 MB/s eta 0:01:47\n",
      "   ---------------------------------------- 1.3/150.0 MB 1.8 MB/s eta 0:01:23\n",
      "    --------------------------------------- 2.1/150.0 MB 2.4 MB/s eta 0:01:02\n",
      "    --------------------------------------- 3.1/150.0 MB 3.0 MB/s eta 0:00:49\n",
      "   - -------------------------------------- 4.5/150.0 MB 3.7 MB/s eta 0:00:40\n",
      "   - -------------------------------------- 6.8/150.0 MB 4.9 MB/s eta 0:00:30\n",
      "   -- ------------------------------------- 9.7/150.0 MB 5.8 MB/s eta 0:00:25\n",
      "   --- ------------------------------------ 13.1/150.0 MB 7.0 MB/s eta 0:00:20\n",
      "   ---- ----------------------------------- 15.7/150.0 MB 7.6 MB/s eta 0:00:18\n",
      "   ---- ----------------------------------- 18.4/150.0 MB 8.1 MB/s eta 0:00:17\n",
      "   ----- ---------------------------------- 21.0/150.0 MB 8.5 MB/s eta 0:00:16\n",
      "   ------ --------------------------------- 23.3/150.0 MB 8.8 MB/s eta 0:00:15\n",
      "   ------ --------------------------------- 26.0/150.0 MB 9.1 MB/s eta 0:00:14\n",
      "   ------- -------------------------------- 28.6/150.0 MB 9.3 MB/s eta 0:00:14\n",
      "   -------- ------------------------------- 31.2/150.0 MB 9.6 MB/s eta 0:00:13\n",
      "   --------- ------------------------------ 33.8/150.0 MB 9.8 MB/s eta 0:00:12\n",
      "   --------- ------------------------------ 36.4/150.0 MB 9.9 MB/s eta 0:00:12\n",
      "   ---------- ----------------------------- 38.8/150.0 MB 10.1 MB/s eta 0:00:12\n",
      "   ----------- ---------------------------- 41.4/150.0 MB 10.2 MB/s eta 0:00:11\n",
      "   ----------- ---------------------------- 44.0/150.0 MB 10.3 MB/s eta 0:00:11\n",
      "   ------------ --------------------------- 46.7/150.0 MB 10.4 MB/s eta 0:00:10\n",
      "   ------------- -------------------------- 49.3/150.0 MB 10.5 MB/s eta 0:00:10\n",
      "   ------------- -------------------------- 51.6/150.0 MB 10.6 MB/s eta 0:00:10\n",
      "   -------------- ------------------------- 54.3/150.0 MB 10.7 MB/s eta 0:00:09\n",
      "   --------------- ------------------------ 56.9/150.0 MB 10.8 MB/s eta 0:00:09\n",
      "   --------------- ------------------------ 59.5/150.0 MB 10.9 MB/s eta 0:00:09\n",
      "   ---------------- ----------------------- 62.1/150.0 MB 10.9 MB/s eta 0:00:09\n",
      "   ----------------- ---------------------- 64.7/150.0 MB 11.0 MB/s eta 0:00:08\n",
      "   ----------------- ---------------------- 67.4/150.0 MB 11.1 MB/s eta 0:00:08\n",
      "   ------------------ --------------------- 70.0/150.0 MB 11.1 MB/s eta 0:00:08\n",
      "   ------------------- -------------------- 72.6/150.0 MB 11.2 MB/s eta 0:00:07\n",
      "   ------------------- -------------------- 75.0/150.0 MB 11.2 MB/s eta 0:00:07\n",
      "   -------------------- ------------------- 77.6/150.0 MB 11.2 MB/s eta 0:00:07\n",
      "   --------------------- ------------------ 80.2/150.0 MB 11.3 MB/s eta 0:00:07\n",
      "   ---------------------- ----------------- 82.8/150.0 MB 11.3 MB/s eta 0:00:06\n",
      "   ---------------------- ----------------- 85.5/150.0 MB 11.4 MB/s eta 0:00:06\n",
      "   ----------------------- ---------------- 88.1/150.0 MB 11.4 MB/s eta 0:00:06\n",
      "   ------------------------ --------------- 90.4/150.0 MB 11.5 MB/s eta 0:00:06\n",
      "   ------------------------ --------------- 93.1/150.0 MB 11.5 MB/s eta 0:00:05\n",
      "   ------------------------- -------------- 95.7/150.0 MB 11.5 MB/s eta 0:00:05\n",
      "   -------------------------- ------------- 98.3/150.0 MB 11.6 MB/s eta 0:00:05\n",
      "   -------------------------- ------------ 100.9/150.0 MB 11.6 MB/s eta 0:00:05\n",
      "   -------------------------- ------------ 103.3/150.0 MB 11.6 MB/s eta 0:00:05\n",
      "   --------------------------- ----------- 105.9/150.0 MB 11.6 MB/s eta 0:00:04\n",
      "   ---------------------------- ---------- 108.5/150.0 MB 11.6 MB/s eta 0:00:04\n",
      "   ---------------------------- ---------- 111.1/150.0 MB 11.7 MB/s eta 0:00:04\n",
      "   ----------------------------- --------- 113.8/150.0 MB 11.7 MB/s eta 0:00:04\n",
      "   ------------------------------ -------- 116.1/150.0 MB 11.7 MB/s eta 0:00:03\n",
      "   ------------------------------ -------- 118.8/150.0 MB 11.7 MB/s eta 0:00:03\n",
      "   ------------------------------- ------- 121.4/150.0 MB 11.8 MB/s eta 0:00:03\n",
      "   -------------------------------- ------ 124.0/150.0 MB 11.8 MB/s eta 0:00:03\n",
      "   -------------------------------- ------ 126.6/150.0 MB 11.8 MB/s eta 0:00:02\n",
      "   --------------------------------- ----- 129.2/150.0 MB 11.8 MB/s eta 0:00:02\n",
      "   ---------------------------------- ---- 131.6/150.0 MB 11.8 MB/s eta 0:00:02\n",
      "   ---------------------------------- ---- 134.2/150.0 MB 11.9 MB/s eta 0:00:02\n",
      "   ----------------------------------- --- 136.8/150.0 MB 11.9 MB/s eta 0:00:02\n",
      "   ------------------------------------ -- 139.5/150.0 MB 11.9 MB/s eta 0:00:01\n",
      "   ------------------------------------ -- 142.1/150.0 MB 11.9 MB/s eta 0:00:01\n",
      "   ------------------------------------- - 144.7/150.0 MB 11.9 MB/s eta 0:00:01\n",
      "   --------------------------------------  147.1/150.0 MB 11.9 MB/s eta 0:00:01\n",
      "   --------------------------------------  149.7/150.0 MB 11.9 MB/s eta 0:00:01\n",
      "   --------------------------------------  149.9/150.0 MB 11.9 MB/s eta 0:00:01\n",
      "   --------------------------------------- 150.0/150.0 MB 11.8 MB/s eta 0:00:00\n",
      "Installing collected packages: xgboost\n",
      "Successfully installed xgboost-3.0.0\n"
     ]
    },
    {
     "name": "stderr",
     "output_type": "stream",
     "text": [
      "\n",
      "[notice] A new release of pip is available: 24.3.1 -> 25.0.1\n",
      "[notice] To update, run: python.exe -m pip install --upgrade pip\n"
     ]
    },
    {
     "name": "stdout",
     "output_type": "stream",
     "text": [
      "Requirement already satisfied: deap in d:\\laragon\\bin\\python\\python-3.10\\lib\\site-packages (1.4.2)\n",
      "Requirement already satisfied: numpy in d:\\laragon\\bin\\python\\python-3.10\\lib\\site-packages (from deap) (2.2.4)\n"
     ]
    },
    {
     "name": "stderr",
     "output_type": "stream",
     "text": [
      "\n",
      "[notice] A new release of pip is available: 24.3.1 -> 25.0.1\n",
      "[notice] To update, run: python.exe -m pip install --upgrade pip\n"
     ]
    }
   ],
   "source": [
    "!pip install xgboost\n",
    "!pip install deap"
   ]
  },
  {
   "cell_type": "code",
   "execution_count": 15,
   "id": "236a5576-4038-4cac-b52d-157d9ff7203e",
   "metadata": {
    "scrolled": true
   },
   "outputs": [],
   "source": [
    "\n",
    "import numpy as np\n",
    "import pandas as pd\n",
    "\n",
    "from sklearn.ensemble import RandomForestClassifier\n",
    "from sklearn.model_selection import cross_val_score, train_test_split\n",
    "from deap import base, creator, tools, algorithms\n",
    "from sklearn.ensemble import RandomForestClassifier\n",
    "from sklearn.model_selection import train_test_split\n",
    "from sklearn.metrics import accuracy_score, precision_score, recall_score, f1_score, roc_auc_score\n",
    "from sklearn.feature_selection import SelectFromModel\n",
    "import xgboost as xgb\n",
    "from xgboost import XGBClassifier\n"
   ]
  },
  {
   "cell_type": "code",
   "execution_count": 2,
   "id": "b721c9be-327f-4f9b-9473-d5eb19e50f66",
   "metadata": {},
   "outputs": [],
   "source": [
    "# === 1. Load Dataset ===\n",
    "df = pd.read_csv(\"Lung Cancer Dataset.csv\")  # Sesuaikan dengan nama file dataset Anda\n",
    "df['PULMONARY_DISEASE'] = df['PULMONARY_DISEASE'].map({'YES': 1, 'NO': 0})  # Encoding target variable\n"
   ]
  },
  {
   "cell_type": "code",
   "execution_count": 4,
   "id": "162a5b75-aa4e-400e-bfc1-158679637e71",
   "metadata": {},
   "outputs": [],
   "source": [
    "# Pisahkan fitur dan target\n",
    "X = df.drop(columns=['PULMONARY_DISEASE'])\n",
    "y = df['PULMONARY_DISEASE']\n",
    "\n",
    "# Konversi fitur kategori ke numerik (jika ada)\n",
    "X = pd.get_dummies(X)"
   ]
  },
  {
   "cell_type": "code",
   "execution_count": 5,
   "id": "82a9a7f0-f4e4-4e82-9c8d-adad8c6bafd8",
   "metadata": {},
   "outputs": [],
   "source": [
    "# Split data\n",
    "X_train, X_test, y_train, y_test = train_test_split(X, y, test_size=0.2, random_state=42)"
   ]
  },
  {
   "cell_type": "code",
   "execution_count": 8,
   "id": "53ffbcb7-3824-49f7-ac0a-b6bcf8334a3a",
   "metadata": {},
   "outputs": [],
   "source": [
    "# Inisialisasi & Latih Random Forest\n",
    "rf = RandomForestClassifier(n_estimators=100, random_state=42)\n",
    "rf.fit(X_train, y_train)\n",
    "selector_rf = SelectFromModel(rf, prefit=True)\n",
    "selected_features_rf = X.columns[selector_rf.get_support()]"
   ]
  },
  {
   "cell_type": "code",
   "execution_count": 16,
   "id": "62087cae-6350-4c3f-b2d9-c042d3408d64",
   "metadata": {},
   "outputs": [
    {
     "name": "stderr",
     "output_type": "stream",
     "text": [
      "D:\\laragon\\bin\\python\\python-3.10\\lib\\site-packages\\xgboost\\training.py:183: UserWarning: [10:28:38] WARNING: C:\\actions-runner\\_work\\xgboost\\xgboost\\src\\learner.cc:738: \n",
      "Parameters: { \"use_label_encoder\" } are not used.\n",
      "\n",
      "  bst.update(dtrain, iteration=i, fobj=obj)\n"
     ]
    }
   ],
   "source": [
    "# Inisialisasi & Latih XGBoost\n",
    "xgb_model = XGBClassifier(n_estimators=100, random_state=42, use_label_encoder=False, eval_metric=\"logloss\")\n",
    "xgb_model.fit(X_train, y_train)\n",
    "selector_xgb = SelectFromModel(xgb_model, prefit=True)\n",
    "selected_features_xgb = X.columns[selector_xgb.get_support()]\n",
    "best_features_rf = X.columns[selector_rf.get_support()].tolist()"
   ]
  },
  {
   "cell_type": "code",
   "execution_count": 17,
   "id": "445a8230-8dbd-425d-97f1-56b1f72a521d",
   "metadata": {},
   "outputs": [],
   "source": [
    "# Membuat DataFrame untuk membandingkan fitur yang dipilih\n",
    "comparison_df = pd.DataFrame({'Feature': X.columns})\n",
    "comparison_df['Selected by RF'] = comparison_df['Feature'].isin(selected_features_rf)\n",
    "comparison_df['Selected by XGBoost'] = comparison_df['Feature'].isin(selected_features_xgb)\n",
    "best_features_xgb = X.columns[selector_xgb.get_support()].tolist()"
   ]
  },
  {
   "cell_type": "code",
   "execution_count": 18,
   "id": "43566a78-c2e3-42c6-b31c-1cb1a310fdc5",
   "metadata": {},
   "outputs": [
    {
     "name": "stdout",
     "output_type": "stream",
     "text": [
      "Hasil Seleksi Fitur oleh Random Forest dan XGBoost:\n",
      "                   Feature  Selected by RF  Selected by XGBoost\n",
      "0                      AGE            True                False\n",
      "1                   GENDER           False                False\n",
      "2                  SMOKING            True                 True\n",
      "3     FINGER_DISCOLORATION           False                False\n",
      "4            MENTAL_STRESS           False                False\n",
      "5    EXPOSURE_TO_POLLUTION           False                False\n",
      "6        LONG_TERM_ILLNESS           False                False\n",
      "7             ENERGY_LEVEL            True                False\n",
      "8          IMMUNE_WEAKNESS           False                False\n",
      "9          BREATHING_ISSUE            True                 True\n",
      "10     ALCOHOL_CONSUMPTION           False                False\n",
      "11       THROAT_DISCOMFORT            True                 True\n",
      "12       OXYGEN_SATURATION            True                False\n",
      "13         CHEST_TIGHTNESS           False                False\n",
      "14          FAMILY_HISTORY           False                 True\n",
      "15  SMOKING_FAMILY_HISTORY           False                False\n",
      "16           STRESS_IMMUNE           False                 True\n"
     ]
    }
   ],
   "source": [
    "# Menampilkan hasil\n",
    "print(\"Hasil Seleksi Fitur oleh Random Forest dan XGBoost:\")\n",
    "print(comparison_df)"
   ]
  },
  {
   "cell_type": "code",
   "execution_count": 19,
   "id": "14c79bc2-d61e-438f-bc7f-bbad81678eb8",
   "metadata": {},
   "outputs": [
    {
     "name": "stdout",
     "output_type": "stream",
     "text": [
      "Best features selected by Random Forest:\n"
     ]
    },
    {
     "ename": "NameError",
     "evalue": "name 'best_features_rf' is not defined",
     "output_type": "error",
     "traceback": [
      "\u001b[1;31m---------------------------------------------------------------------------\u001b[0m",
      "\u001b[1;31mNameError\u001b[0m                                 Traceback (most recent call last)",
      "Cell \u001b[1;32mIn[19], line 3\u001b[0m\n\u001b[0;32m      1\u001b[0m \u001b[38;5;66;03m# Output hasil seleksi fitur\u001b[39;00m\n\u001b[0;32m      2\u001b[0m \u001b[38;5;28mprint\u001b[39m(\u001b[38;5;124m\"\u001b[39m\u001b[38;5;124mBest features selected by Random Forest:\u001b[39m\u001b[38;5;124m\"\u001b[39m)\n\u001b[1;32m----> 3\u001b[0m \u001b[38;5;28mprint\u001b[39m(\u001b[43mbest_features_rf\u001b[49m)\n\u001b[0;32m      5\u001b[0m \u001b[38;5;28mprint\u001b[39m(\u001b[38;5;124m\"\u001b[39m\u001b[38;5;130;01m\\n\u001b[39;00m\u001b[38;5;124mBest features selected by XGBoost:\u001b[39m\u001b[38;5;124m\"\u001b[39m)\n\u001b[0;32m      6\u001b[0m \u001b[38;5;28mprint\u001b[39m(best_features_xgb)\n",
      "\u001b[1;31mNameError\u001b[0m: name 'best_features_rf' is not defined"
     ]
    }
   ],
   "source": [
    "# Output hasil seleksi fitur\n",
    "print(\"Best features selected by Random Forest:\")\n",
    "print(best_features_rf)\n",
    "\n",
    "print(\"\\nBest features selected by XGBoost:\")\n",
    "print(best_features_xgb)\n"
   ]
  },
  {
   "cell_type": "code",
   "execution_count": null,
   "id": "65ba5db6-a1fc-4fb8-9cfd-7572ec1e28f0",
   "metadata": {},
   "outputs": [],
   "source": []
  }
 ],
 "metadata": {
  "kernelspec": {
   "display_name": "Python 3 (ipykernel)",
   "language": "python",
   "name": "python3"
  },
  "language_info": {
   "codemirror_mode": {
    "name": "ipython",
    "version": 3
   },
   "file_extension": ".py",
   "mimetype": "text/x-python",
   "name": "python",
   "nbconvert_exporter": "python",
   "pygments_lexer": "ipython3",
   "version": "3.10.6"
  }
 },
 "nbformat": 4,
 "nbformat_minor": 5
}
