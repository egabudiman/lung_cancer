{
 "cells": [
  {
   "cell_type": "code",
   "execution_count": 1,
   "id": "ef5b5add-8c4e-4553-a150-3213613071f0",
   "metadata": {},
   "outputs": [],
   "source": [
    "# === 1. Import Library ===\n",
    "import pandas as pd\n",
    "import numpy as np\n",
    "import matplotlib.pyplot as plt\n",
    "from sklearn.ensemble import RandomForestClassifier\n",
    "from sklearn.model_selection import train_test_split\n",
    "from sklearn.metrics import accuracy_score, precision_score, recall_score, f1_score, roc_auc_score\n",
    "import xgboost as xgb\n",
    "from xgboost import XGBClassifier\n",
    "from deap import base, creator, tools, algorithms"
   ]
  },
  {
   "cell_type": "code",
   "execution_count": 2,
   "id": "a6f7dc2c-1d53-4d1b-88d9-22683e6de160",
   "metadata": {},
   "outputs": [],
   "source": [
    "# === 2. Load Dataset ===\n",
    "df = pd.read_csv(\"Lung Cancer Dataset.csv\")\n",
    "df['PULMONARY_DISEASE'] = df['PULMONARY_DISEASE'].map({'YES': 1, 'NO': 0})  # Encoding target variable\n"
   ]
  },
  {
   "cell_type": "code",
   "execution_count": 3,
   "id": "86f1c85c-94c6-4f80-828a-77c1bd3f58b7",
   "metadata": {},
   "outputs": [],
   "source": [
    "# Pisahkan fitur dan target\n",
    "X = df.drop(columns=['PULMONARY_DISEASE'])\n",
    "y = df['PULMONARY_DISEASE']"
   ]
  },
  {
   "cell_type": "code",
   "execution_count": 4,
   "id": "1b6c094a-da20-4c80-9d17-b4a45330074a",
   "metadata": {},
   "outputs": [],
   "source": [
    "# Konversi fitur kategori ke numerik (jika ada)\n",
    "X = pd.get_dummies(X)"
   ]
  },
  {
   "cell_type": "code",
   "execution_count": 5,
   "id": "d102d6ec-2452-4375-9de6-25408dcaa480",
   "metadata": {},
   "outputs": [],
   "source": [
    "# Split data\n",
    "X_train, X_test, y_train, y_test = train_test_split(X, y, test_size=0.2, random_state=42)"
   ]
  },
  {
   "cell_type": "code",
   "execution_count": 6,
   "id": "78d32df6-8383-4501-8a48-845fa0a1db63",
   "metadata": {},
   "outputs": [],
   "source": [
    "# === 3. Parameter Genetic Algorithm ===\n",
    "POPULATION_SIZE = 20  # Ukuran populasi\n",
    "N_GENERATIONS = 50  # Jumlah iterasi generasi\n",
    "MUTATION_RATE = 0.2  # Peluang mutasi"
   ]
  },
  {
   "cell_type": "code",
   "execution_count": 8,
   "id": "bc914602-6387-4509-ba04-97bcfcb0e02a",
   "metadata": {},
   "outputs": [
    {
     "name": "stderr",
     "output_type": "stream",
     "text": [
      "D:\\laragon\\bin\\python\\python-3.10\\lib\\site-packages\\deap\\creator.py:185: RuntimeWarning: A class named 'FitnessMax' has already been created and it will be overwritten. Consider deleting previous creation of that class or rename it.\n",
      "  warnings.warn(\"A class named '{0}' has already been created and it \"\n",
      "D:\\laragon\\bin\\python\\python-3.10\\lib\\site-packages\\deap\\creator.py:185: RuntimeWarning: A class named 'Individual' has already been created and it will be overwritten. Consider deleting previous creation of that class or rename it.\n",
      "  warnings.warn(\"A class named '{0}' has already been created and it \"\n"
     ]
    }
   ],
   "source": [
    "# Inisialisasi GA\n",
    "creator.create(\"FitnessMax\", base.Fitness, weights=(1.0,))\n",
    "creator.create(\"Individual\", list, fitness=creator.FitnessMax)\n",
    "\n"
   ]
  },
  {
   "cell_type": "code",
   "execution_count": 9,
   "id": "08a348a1-e8c7-41e4-90b1-e1a8b5a38934",
   "metadata": {},
   "outputs": [],
   "source": [
    "toolbox = base.Toolbox()\n",
    "toolbox.register(\"attr_bool\", np.random.randint, 0, 2)\n",
    "toolbox.register(\"individual\", tools.initRepeat, creator.Individual, toolbox.attr_bool, n=len(X.columns))\n",
    "toolbox.register(\"population\", tools.initRepeat, list, toolbox.individual)"
   ]
  },
  {
   "cell_type": "code",
   "execution_count": 10,
   "id": "e4f0975b-f65b-4fd3-9424-71668ec1040f",
   "metadata": {},
   "outputs": [],
   "source": [
    "# === 4. Genetic Algorithm for Feature Selection (Random Forest) ===\n",
    "def evaluate_rf(individual):\n",
    "    selected_features = [col for i, col in enumerate(X.columns) if individual[i] == 1]\n",
    "    if len(selected_features) == 0:\n",
    "        return 0,\n",
    "    X_selected = X[selected_features]\n",
    "    X_train_sel, X_test_sel, y_train_sel, y_test_sel = train_test_split(X_selected, y, test_size=0.2, random_state=42)\n",
    "    model = RandomForestClassifier(n_estimators=100, random_state=42)\n",
    "    scores = accuracy_score(y_test_sel, model.fit(X_train_sel, y_train_sel).predict(X_test_sel))\n",
    "    return scores,\n",
    "\n",
    "toolbox.register(\"evaluate\", evaluate_rf)\n",
    "toolbox.register(\"mate\", tools.cxTwoPoint)\n",
    "toolbox.register(\"mutate\", tools.mutFlipBit, indpb=MUTATION_RATE)\n",
    "toolbox.register(\"select\", tools.selTournament, tournsize=3)"
   ]
  },
  {
   "cell_type": "code",
   "execution_count": 11,
   "id": "7b6c0282-2537-44e2-ba4a-074c4c9b8c9d",
   "metadata": {},
   "outputs": [],
   "source": [
    "# Simpan nilai fitness terbaik tiap generasi\n",
    "best_fitness_per_generation = []"
   ]
  },
  {
   "cell_type": "code",
   "execution_count": 14,
   "id": "88e83b6f-ad17-46a4-9827-e042887bfdb0",
   "metadata": {},
   "outputs": [
    {
     "name": "stdout",
     "output_type": "stream",
     "text": [
      "Running Genetic Algorithm for 50 generations...\n",
      "\n",
      "gen\tnevals\tmax  \tmin  \tavg    \n",
      "0  \t20    \t0.863\t0.555\t0.70265\n",
      "1  \t9     \t0.863\t0.598\t0.76295\n",
      "2  \t13    \t0.87 \t0.729\t0.81445\n",
      "3  \t16    \t0.87 \t0.81 \t0.85515\n",
      "4  \t13    \t0.877\t0.789\t0.8604 \n",
      "5  \t8     \t0.87 \t0.722\t0.85895\n",
      "6  \t7     \t0.87 \t0.685\t0.8536 \n",
      "7  \t14    \t0.87 \t0.701\t0.84435\n",
      "8  \t13    \t0.87 \t0.686\t0.84225\n",
      "9  \t11    \t0.883\t0.746\t0.86445\n",
      "10 \t10    \t0.901\t0.723\t0.8619 \n",
      "11 \t17    \t0.901\t0.694\t0.84005\n",
      "12 \t6     \t0.91 \t0.683\t0.8579 \n",
      "13 \t12    \t0.915\t0.702\t0.86945\n",
      "14 \t11    \t0.915\t0.664\t0.8784 \n",
      "15 \t10    \t0.915\t0.843\t0.90685\n",
      "16 \t11    \t0.915\t0.781\t0.90505\n",
      "17 \t10    \t0.915\t0.909\t0.91355\n",
      "18 \t10    \t0.915\t0.78 \t0.897  \n",
      "19 \t17    \t0.915\t0.576\t0.87915\n",
      "20 \t7     \t0.915\t0.771\t0.9055 \n",
      "21 \t13    \t0.915\t0.752\t0.8911 \n",
      "22 \t12    \t0.915\t0.727\t0.8924 \n",
      "23 \t11    \t0.915\t0.867\t0.9126 \n",
      "24 \t10    \t0.915\t0.739\t0.89975\n",
      "25 \t12    \t0.915\t0.789\t0.8931 \n",
      "26 \t13    \t0.922\t0.688\t0.89525\n",
      "27 \t16    \t0.922\t0.702\t0.8936 \n",
      "28 \t9     \t0.922\t0.78 \t0.90405\n",
      "29 \t16    \t0.922\t0.719\t0.88665\n",
      "30 \t10    \t0.922\t0.764\t0.8965 \n",
      "31 \t12    \t0.922\t0.627\t0.89275\n",
      "32 \t10    \t0.922\t0.729\t0.8893 \n",
      "33 \t12    \t0.922\t0.723\t0.9019 \n",
      "34 \t17    \t0.922\t0.635\t0.8902 \n",
      "35 \t13    \t0.922\t0.819\t0.91055\n",
      "36 \t9     \t0.922\t0.648\t0.89655\n",
      "37 \t13    \t0.922\t0.744\t0.90355\n",
      "38 \t8     \t0.922\t0.698\t0.89415\n",
      "39 \t12    \t0.922\t0.877\t0.9184 \n",
      "40 \t13    \t0.922\t0.827\t0.91725\n",
      "41 \t14    \t0.922\t0.716\t0.8899 \n",
      "42 \t16    \t0.922\t0.717\t0.8715 \n",
      "43 \t11    \t0.922\t0.842\t0.90955\n",
      "44 \t11    \t0.922\t0.742\t0.88975\n",
      "45 \t11    \t0.922\t0.66 \t0.8858 \n",
      "46 \t13    \t0.922\t0.913\t0.92155\n",
      "47 \t12    \t0.922\t0.678\t0.8956 \n",
      "48 \t13    \t0.922\t0.828\t0.90465\n",
      "49 \t12    \t0.922\t0.681\t0.8893 \n",
      "50 \t15    \t0.922\t0.823\t0.904  \n",
      "\n",
      "Fitur Terbaik yang Dipilih oleh GA untuk Random Forest:\n",
      "['AGE', 'SMOKING', 'EXPOSURE_TO_POLLUTION', 'ENERGY_LEVEL', 'BREATHING_ISSUE', 'ALCOHOL_CONSUMPTION', 'THROAT_DISCOMFORT', 'FAMILY_HISTORY', 'SMOKING_FAMILY_HISTORY', 'STRESS_IMMUNE']\n"
     ]
    }
   ],
   "source": [
    "# Jalankan GA untuk RF\n",
    "population = toolbox.population(n=POPULATION_SIZE)\n",
    "hof = tools.HallOfFame(1)\n",
    "\n",
    "# Menjalankan GA dalam satu kali pemanggilan untuk semua generasi\n",
    "stats = tools.Statistics(lambda ind: ind.fitness.values)\n",
    "stats.register(\"max\", np.max)\n",
    "stats.register(\"min\", np.min)\n",
    "stats.register(\"avg\", np.mean)\n",
    "\n",
    "print(f\"Running Genetic Algorithm for {N_GENERATIONS} generations...\\n\")\n",
    "\n",
    "# Jalankan GA satu kali untuk semua generasi\n",
    "population, logbook = algorithms.eaSimple(population, toolbox, cxpb=0.5, mutpb=0.2, \n",
    "                                          ngen=N_GENERATIONS, stats=stats, halloffame=hof, verbose=True)\n",
    "\n",
    "# Simpan nilai fitness terbaik dari setiap generasi\n",
    "best_fitness_per_generation = logbook.select(\"max\")\n",
    "\n",
    "# Pastikan bahwa GA berhasil menemukan individu terbaik\n",
    "if len(hof) > 0:\n",
    "    best_features_rf = [col for i, col in enumerate(X.columns) if hof[0][i] == 1]\n",
    "    print(\"\\nFitur Terbaik yang Dipilih oleh GA untuk Random Forest:\")\n",
    "    print(best_features_rf)\n",
    "else:\n",
    "    print(\"⚠️ GA tidak menemukan individu terbaik. Periksa kembali parameter GA.\")\n",
    "    best_features_rf = []\n"
   ]
  },
  {
   "cell_type": "code",
   "execution_count": 15,
   "id": "ff81e50f-6f68-4d29-8e45-c8b5c77e8b4d",
   "metadata": {},
   "outputs": [],
   "source": [
    "# === 5. Genetic Algorithm for Feature Selection (XGBoost) ===\n",
    "def evaluate_xgb(individual):\n",
    "    selected_features = [col for i, col in enumerate(X.columns) if individual[i] == 1]\n",
    "    if len(selected_features) == 0:\n",
    "        return 0,\n",
    "    X_selected = X[selected_features]\n",
    "    X_train_sel, X_test_sel, y_train_sel, y_test_sel = train_test_split(X_selected, y, test_size=0.2, random_state=42)\n",
    "    model = XGBClassifier(n_estimators=100, random_state=42, eval_metric=\"logloss\")\n",
    "    scores = accuracy_score(y_test_sel, model.fit(X_train_sel, y_train_sel).predict(X_test_sel))\n",
    "    return scores,\n",
    "\n",
    "toolbox.register(\"evaluate\", evaluate_xgb)"
   ]
  },
  {
   "cell_type": "code",
   "execution_count": 16,
   "id": "5e39e6b3-3dc8-4c91-8189-7cd8dfc9a6ac",
   "metadata": {},
   "outputs": [],
   "source": [
    "# Simpan nilai fitness terbaik tiap generasi untuk XGBoost\n",
    "best_fitness_per_generation_xgb = []"
   ]
  },
  {
   "cell_type": "code",
   "execution_count": 17,
   "id": "54a2ce7c-0a4b-4e2d-adcd-1361667e7821",
   "metadata": {},
   "outputs": [
    {
     "name": "stdout",
     "output_type": "stream",
     "text": [
      "Running Genetic Algorithm for XGBoost with 50 generations...\n",
      "\n",
      "gen\tnevals\tmax  \tmin  \tavg   \n",
      "0  \t20    \t0.892\t0.572\t0.6984\n",
      "1  \t11    \t0.901\t0.658\t0.7786\n",
      "2  \t10    \t0.901\t0.691\t0.82055\n",
      "3  \t8     \t0.901\t0.784\t0.8651 \n",
      "4  \t10    \t0.901\t0.853\t0.89425\n",
      "5  \t10    \t0.901\t0.683\t0.8878 \n",
      "6  \t11    \t0.901\t0.681\t0.87815\n",
      "7  \t12    \t0.901\t0.753\t0.8825 \n",
      "8  \t13    \t0.901\t0.685\t0.87375\n",
      "9  \t15    \t0.902\t0.673\t0.87845\n",
      "10 \t9     \t0.907\t0.777\t0.8914 \n",
      "11 \t10    \t0.907\t0.725\t0.87995\n",
      "12 \t14    \t0.907\t0.865\t0.8993 \n",
      "13 \t9     \t0.907\t0.805\t0.8964 \n",
      "14 \t7     \t0.907\t0.832\t0.89895\n",
      "15 \t12    \t0.907\t0.712\t0.88865\n",
      "16 \t11    \t0.907\t0.696\t0.88495\n",
      "17 \t15    \t0.907\t0.724\t0.89785\n",
      "18 \t12    \t0.907\t0.799\t0.89055\n",
      "19 \t12    \t0.907\t0.669\t0.8713 \n",
      "20 \t16    \t0.907\t0.693\t0.8749 \n",
      "21 \t13    \t0.907\t0.826\t0.90295\n",
      "22 \t11    \t0.908\t0.775\t0.894  \n",
      "23 \t7     \t0.908\t0.835\t0.90325\n",
      "24 \t11    \t0.911\t0.832\t0.90175\n",
      "25 \t12    \t0.911\t0.678\t0.89195\n",
      "26 \t15    \t0.911\t0.68 \t0.8762 \n",
      "27 \t14    \t0.911\t0.848\t0.9054 \n",
      "28 \t15    \t0.911\t0.735\t0.89845\n",
      "29 \t12    \t0.911\t0.707\t0.88085\n",
      "30 \t13    \t0.911\t0.612\t0.8895 \n",
      "31 \t8     \t0.911\t0.744\t0.88235\n",
      "32 \t14    \t0.911\t0.579\t0.86535\n",
      "33 \t16    \t0.911\t0.77 \t0.8871 \n",
      "34 \t15    \t0.911\t0.632\t0.85385\n",
      "35 \t8     \t0.911\t0.911\t0.911  \n",
      "36 \t10    \t0.911\t0.749\t0.8903 \n",
      "37 \t14    \t0.911\t0.749\t0.8862 \n",
      "38 \t13    \t0.911\t0.792\t0.89545\n",
      "39 \t7     \t0.911\t0.847\t0.9078 \n",
      "40 \t18    \t0.911\t0.633\t0.8971 \n",
      "41 \t10    \t0.911\t0.666\t0.8757 \n",
      "42 \t12    \t0.911\t0.801\t0.89885\n",
      "43 \t12    \t0.911\t0.796\t0.90155\n",
      "44 \t11    \t0.911\t0.618\t0.87355\n",
      "45 \t7     \t0.911\t0.783\t0.8991 \n",
      "46 \t11    \t0.911\t0.726\t0.8827 \n",
      "47 \t14    \t0.911\t0.84 \t0.90685\n",
      "48 \t13    \t0.911\t0.718\t0.88605\n",
      "49 \t7     \t0.911\t0.839\t0.9042 \n",
      "50 \t9     \t0.911\t0.781\t0.8986 \n",
      "\n",
      "Fitur Terbaik yang Dipilih oleh GA untuk XGBoost:\n",
      "['AGE', 'SMOKING', 'FINGER_DISCOLORATION', 'MENTAL_STRESS', 'EXPOSURE_TO_POLLUTION', 'ENERGY_LEVEL', 'BREATHING_ISSUE', 'ALCOHOL_CONSUMPTION', 'THROAT_DISCOMFORT', 'SMOKING_FAMILY_HISTORY', 'STRESS_IMMUNE']\n"
     ]
    }
   ],
   "source": [
    "# Jalankan GA untuk XGBoost\n",
    "population = toolbox.population(n=POPULATION_SIZE)\n",
    "hof = tools.HallOfFame(1)\n",
    "\n",
    "# Menjalankan GA dalam satu kali pemanggilan untuk semua generasi\n",
    "stats = tools.Statistics(lambda ind: ind.fitness.values)\n",
    "stats.register(\"max\", np.max)\n",
    "stats.register(\"min\", np.min)\n",
    "stats.register(\"avg\", np.mean)\n",
    "\n",
    "print(f\"Running Genetic Algorithm for XGBoost with {N_GENERATIONS} generations...\\n\")\n",
    "\n",
    "# Jalankan GA satu kali untuk semua generasi\n",
    "population, logbook = algorithms.eaSimple(population, toolbox, cxpb=0.5, mutpb=0.2, \n",
    "                                          ngen=N_GENERATIONS, stats=stats, halloffame=hof, verbose=True)\n",
    "\n",
    "# Simpan nilai fitness terbaik dari setiap generasi\n",
    "#best_fitness_per_generation_xgb = logbook.select(\"max\")\n",
    "best_fitness_per_generation_xgb = logbook.select(\"max\")[1:]  # Hilangkan nilai generasi 0\n",
    "# Pastikan bahwa GA berhasil menemukan individu terbaik\n",
    "if len(hof) > 0:\n",
    "    best_features_xgb = [col for i, col in enumerate(X.columns) if hof[0][i] == 1]\n",
    "    print(\"\\nFitur Terbaik yang Dipilih oleh GA untuk XGBoost:\")\n",
    "    print(best_features_xgb)\n",
    "else:\n",
    "    print(\"⚠️ GA tidak menemukan individu terbaik untuk XGBoost. Periksa kembali parameter GA.\")\n",
    "    best_features_xgb = []\n"
   ]
  },
  {
   "cell_type": "code",
   "execution_count": 18,
   "id": "520c6464-928c-4822-a3e0-ce777b35a013",
   "metadata": {},
   "outputs": [
    {
     "ename": "ValueError",
     "evalue": "x and y must have same first dimension, but have shapes (50,) and (51,)",
     "output_type": "error",
     "traceback": [
      "\u001b[1;31m---------------------------------------------------------------------------\u001b[0m",
      "\u001b[1;31mValueError\u001b[0m                                Traceback (most recent call last)",
      "Cell \u001b[1;32mIn[18], line 3\u001b[0m\n\u001b[0;32m      1\u001b[0m \u001b[38;5;66;03m# === 6. Visualisasi Konvergensi GA ===\u001b[39;00m\n\u001b[0;32m      2\u001b[0m plt\u001b[38;5;241m.\u001b[39mfigure(figsize\u001b[38;5;241m=\u001b[39m(\u001b[38;5;241m8\u001b[39m, \u001b[38;5;241m5\u001b[39m))\n\u001b[1;32m----> 3\u001b[0m \u001b[43mplt\u001b[49m\u001b[38;5;241;43m.\u001b[39;49m\u001b[43mplot\u001b[49m\u001b[43m(\u001b[49m\u001b[38;5;28;43mrange\u001b[39;49m\u001b[43m(\u001b[49m\u001b[43mN_GENERATIONS\u001b[49m\u001b[43m)\u001b[49m\u001b[43m,\u001b[49m\u001b[43m \u001b[49m\u001b[43mbest_fitness_per_generation\u001b[49m\u001b[43m,\u001b[49m\u001b[43m \u001b[49m\u001b[43mmarker\u001b[49m\u001b[38;5;241;43m=\u001b[39;49m\u001b[38;5;124;43m'\u001b[39;49m\u001b[38;5;124;43mo\u001b[39;49m\u001b[38;5;124;43m'\u001b[39;49m\u001b[43m,\u001b[49m\u001b[43m \u001b[49m\u001b[43mlinestyle\u001b[49m\u001b[38;5;241;43m=\u001b[39;49m\u001b[38;5;124;43m'\u001b[39;49m\u001b[38;5;124;43m-\u001b[39;49m\u001b[38;5;124;43m'\u001b[39;49m\u001b[43m,\u001b[49m\u001b[43m \u001b[49m\u001b[43mcolor\u001b[49m\u001b[38;5;241;43m=\u001b[39;49m\u001b[38;5;124;43m'\u001b[39;49m\u001b[38;5;124;43mb\u001b[39;49m\u001b[38;5;124;43m'\u001b[39;49m\u001b[43m,\u001b[49m\u001b[43m \u001b[49m\u001b[43mlabel\u001b[49m\u001b[38;5;241;43m=\u001b[39;49m\u001b[38;5;124;43m'\u001b[39;49m\u001b[38;5;124;43mRF Fitness Score\u001b[39;49m\u001b[38;5;124;43m'\u001b[39;49m\u001b[43m)\u001b[49m\n\u001b[0;32m      4\u001b[0m plt\u001b[38;5;241m.\u001b[39mplot(\u001b[38;5;28mrange\u001b[39m(N_GENERATIONS), best_fitness_per_generation_xgb, marker\u001b[38;5;241m=\u001b[39m\u001b[38;5;124m'\u001b[39m\u001b[38;5;124mo\u001b[39m\u001b[38;5;124m'\u001b[39m, linestyle\u001b[38;5;241m=\u001b[39m\u001b[38;5;124m'\u001b[39m\u001b[38;5;124m-\u001b[39m\u001b[38;5;124m'\u001b[39m, color\u001b[38;5;241m=\u001b[39m\u001b[38;5;124m'\u001b[39m\u001b[38;5;124mr\u001b[39m\u001b[38;5;124m'\u001b[39m, label\u001b[38;5;241m=\u001b[39m\u001b[38;5;124m'\u001b[39m\u001b[38;5;124mXGB Fitness Score\u001b[39m\u001b[38;5;124m'\u001b[39m)\n\u001b[0;32m      5\u001b[0m plt\u001b[38;5;241m.\u001b[39maxvline(x\u001b[38;5;241m=\u001b[39m\u001b[38;5;241m40\u001b[39m, linestyle\u001b[38;5;241m=\u001b[39m\u001b[38;5;124m'\u001b[39m\u001b[38;5;124m--\u001b[39m\u001b[38;5;124m'\u001b[39m, color\u001b[38;5;241m=\u001b[39m\u001b[38;5;124m'\u001b[39m\u001b[38;5;124mgray\u001b[39m\u001b[38;5;124m'\u001b[39m, label\u001b[38;5;241m=\u001b[39m\u001b[38;5;124m'\u001b[39m\u001b[38;5;124mStabilization Point\u001b[39m\u001b[38;5;124m'\u001b[39m)\n",
      "File \u001b[1;32mD:\\laragon\\bin\\python\\python-3.10\\lib\\site-packages\\matplotlib\\pyplot.py:3827\u001b[0m, in \u001b[0;36mplot\u001b[1;34m(scalex, scaley, data, *args, **kwargs)\u001b[0m\n\u001b[0;32m   3819\u001b[0m \u001b[38;5;129m@_copy_docstring_and_deprecators\u001b[39m(Axes\u001b[38;5;241m.\u001b[39mplot)\n\u001b[0;32m   3820\u001b[0m \u001b[38;5;28;01mdef\u001b[39;00m\u001b[38;5;250m \u001b[39m\u001b[38;5;21mplot\u001b[39m(\n\u001b[0;32m   3821\u001b[0m     \u001b[38;5;241m*\u001b[39margs: \u001b[38;5;28mfloat\u001b[39m \u001b[38;5;241m|\u001b[39m ArrayLike \u001b[38;5;241m|\u001b[39m \u001b[38;5;28mstr\u001b[39m,\n\u001b[1;32m   (...)\u001b[0m\n\u001b[0;32m   3825\u001b[0m     \u001b[38;5;241m*\u001b[39m\u001b[38;5;241m*\u001b[39mkwargs,\n\u001b[0;32m   3826\u001b[0m ) \u001b[38;5;241m-\u001b[39m\u001b[38;5;241m>\u001b[39m \u001b[38;5;28mlist\u001b[39m[Line2D]:\n\u001b[1;32m-> 3827\u001b[0m     \u001b[38;5;28;01mreturn\u001b[39;00m gca()\u001b[38;5;241m.\u001b[39mplot(\n\u001b[0;32m   3828\u001b[0m         \u001b[38;5;241m*\u001b[39margs,\n\u001b[0;32m   3829\u001b[0m         scalex\u001b[38;5;241m=\u001b[39mscalex,\n\u001b[0;32m   3830\u001b[0m         scaley\u001b[38;5;241m=\u001b[39mscaley,\n\u001b[0;32m   3831\u001b[0m         \u001b[38;5;241m*\u001b[39m\u001b[38;5;241m*\u001b[39m({\u001b[38;5;124m\"\u001b[39m\u001b[38;5;124mdata\u001b[39m\u001b[38;5;124m\"\u001b[39m: data} \u001b[38;5;28;01mif\u001b[39;00m data \u001b[38;5;129;01mis\u001b[39;00m \u001b[38;5;129;01mnot\u001b[39;00m \u001b[38;5;28;01mNone\u001b[39;00m \u001b[38;5;28;01melse\u001b[39;00m {}),\n\u001b[0;32m   3832\u001b[0m         \u001b[38;5;241m*\u001b[39m\u001b[38;5;241m*\u001b[39mkwargs,\n\u001b[0;32m   3833\u001b[0m     )\n",
      "File \u001b[1;32mD:\\laragon\\bin\\python\\python-3.10\\lib\\site-packages\\matplotlib\\axes\\_axes.py:1777\u001b[0m, in \u001b[0;36mAxes.plot\u001b[1;34m(self, scalex, scaley, data, *args, **kwargs)\u001b[0m\n\u001b[0;32m   1534\u001b[0m \u001b[38;5;250m\u001b[39m\u001b[38;5;124;03m\"\"\"\u001b[39;00m\n\u001b[0;32m   1535\u001b[0m \u001b[38;5;124;03mPlot y versus x as lines and/or markers.\u001b[39;00m\n\u001b[0;32m   1536\u001b[0m \n\u001b[1;32m   (...)\u001b[0m\n\u001b[0;32m   1774\u001b[0m \u001b[38;5;124;03m(``'green'``) or hex strings (``'#008000'``).\u001b[39;00m\n\u001b[0;32m   1775\u001b[0m \u001b[38;5;124;03m\"\"\"\u001b[39;00m\n\u001b[0;32m   1776\u001b[0m kwargs \u001b[38;5;241m=\u001b[39m cbook\u001b[38;5;241m.\u001b[39mnormalize_kwargs(kwargs, mlines\u001b[38;5;241m.\u001b[39mLine2D)\n\u001b[1;32m-> 1777\u001b[0m lines \u001b[38;5;241m=\u001b[39m [\u001b[38;5;241m*\u001b[39m\u001b[38;5;28mself\u001b[39m\u001b[38;5;241m.\u001b[39m_get_lines(\u001b[38;5;28mself\u001b[39m, \u001b[38;5;241m*\u001b[39margs, data\u001b[38;5;241m=\u001b[39mdata, \u001b[38;5;241m*\u001b[39m\u001b[38;5;241m*\u001b[39mkwargs)]\n\u001b[0;32m   1778\u001b[0m \u001b[38;5;28;01mfor\u001b[39;00m line \u001b[38;5;129;01min\u001b[39;00m lines:\n\u001b[0;32m   1779\u001b[0m     \u001b[38;5;28mself\u001b[39m\u001b[38;5;241m.\u001b[39madd_line(line)\n",
      "File \u001b[1;32mD:\\laragon\\bin\\python\\python-3.10\\lib\\site-packages\\matplotlib\\axes\\_base.py:297\u001b[0m, in \u001b[0;36m_process_plot_var_args.__call__\u001b[1;34m(self, axes, data, return_kwargs, *args, **kwargs)\u001b[0m\n\u001b[0;32m    295\u001b[0m     this \u001b[38;5;241m+\u001b[39m\u001b[38;5;241m=\u001b[39m args[\u001b[38;5;241m0\u001b[39m],\n\u001b[0;32m    296\u001b[0m     args \u001b[38;5;241m=\u001b[39m args[\u001b[38;5;241m1\u001b[39m:]\n\u001b[1;32m--> 297\u001b[0m \u001b[38;5;28;01myield from\u001b[39;00m \u001b[38;5;28;43mself\u001b[39;49m\u001b[38;5;241;43m.\u001b[39;49m\u001b[43m_plot_args\u001b[49m\u001b[43m(\u001b[49m\n\u001b[0;32m    298\u001b[0m \u001b[43m    \u001b[49m\u001b[43maxes\u001b[49m\u001b[43m,\u001b[49m\u001b[43m \u001b[49m\u001b[43mthis\u001b[49m\u001b[43m,\u001b[49m\u001b[43m \u001b[49m\u001b[43mkwargs\u001b[49m\u001b[43m,\u001b[49m\u001b[43m \u001b[49m\u001b[43mambiguous_fmt_datakey\u001b[49m\u001b[38;5;241;43m=\u001b[39;49m\u001b[43mambiguous_fmt_datakey\u001b[49m\u001b[43m,\u001b[49m\n\u001b[0;32m    299\u001b[0m \u001b[43m    \u001b[49m\u001b[43mreturn_kwargs\u001b[49m\u001b[38;5;241;43m=\u001b[39;49m\u001b[43mreturn_kwargs\u001b[49m\n\u001b[0;32m    300\u001b[0m \u001b[43m\u001b[49m\u001b[43m)\u001b[49m\n",
      "File \u001b[1;32mD:\\laragon\\bin\\python\\python-3.10\\lib\\site-packages\\matplotlib\\axes\\_base.py:494\u001b[0m, in \u001b[0;36m_process_plot_var_args._plot_args\u001b[1;34m(self, axes, tup, kwargs, return_kwargs, ambiguous_fmt_datakey)\u001b[0m\n\u001b[0;32m    491\u001b[0m     axes\u001b[38;5;241m.\u001b[39myaxis\u001b[38;5;241m.\u001b[39mupdate_units(y)\n\u001b[0;32m    493\u001b[0m \u001b[38;5;28;01mif\u001b[39;00m x\u001b[38;5;241m.\u001b[39mshape[\u001b[38;5;241m0\u001b[39m] \u001b[38;5;241m!=\u001b[39m y\u001b[38;5;241m.\u001b[39mshape[\u001b[38;5;241m0\u001b[39m]:\n\u001b[1;32m--> 494\u001b[0m     \u001b[38;5;28;01mraise\u001b[39;00m \u001b[38;5;167;01mValueError\u001b[39;00m(\u001b[38;5;124mf\u001b[39m\u001b[38;5;124m\"\u001b[39m\u001b[38;5;124mx and y must have same first dimension, but \u001b[39m\u001b[38;5;124m\"\u001b[39m\n\u001b[0;32m    495\u001b[0m                      \u001b[38;5;124mf\u001b[39m\u001b[38;5;124m\"\u001b[39m\u001b[38;5;124mhave shapes \u001b[39m\u001b[38;5;132;01m{\u001b[39;00mx\u001b[38;5;241m.\u001b[39mshape\u001b[38;5;132;01m}\u001b[39;00m\u001b[38;5;124m and \u001b[39m\u001b[38;5;132;01m{\u001b[39;00my\u001b[38;5;241m.\u001b[39mshape\u001b[38;5;132;01m}\u001b[39;00m\u001b[38;5;124m\"\u001b[39m)\n\u001b[0;32m    496\u001b[0m \u001b[38;5;28;01mif\u001b[39;00m x\u001b[38;5;241m.\u001b[39mndim \u001b[38;5;241m>\u001b[39m \u001b[38;5;241m2\u001b[39m \u001b[38;5;129;01mor\u001b[39;00m y\u001b[38;5;241m.\u001b[39mndim \u001b[38;5;241m>\u001b[39m \u001b[38;5;241m2\u001b[39m:\n\u001b[0;32m    497\u001b[0m     \u001b[38;5;28;01mraise\u001b[39;00m \u001b[38;5;167;01mValueError\u001b[39;00m(\u001b[38;5;124mf\u001b[39m\u001b[38;5;124m\"\u001b[39m\u001b[38;5;124mx and y can be no greater than 2D, but have \u001b[39m\u001b[38;5;124m\"\u001b[39m\n\u001b[0;32m    498\u001b[0m                      \u001b[38;5;124mf\u001b[39m\u001b[38;5;124m\"\u001b[39m\u001b[38;5;124mshapes \u001b[39m\u001b[38;5;132;01m{\u001b[39;00mx\u001b[38;5;241m.\u001b[39mshape\u001b[38;5;132;01m}\u001b[39;00m\u001b[38;5;124m and \u001b[39m\u001b[38;5;132;01m{\u001b[39;00my\u001b[38;5;241m.\u001b[39mshape\u001b[38;5;132;01m}\u001b[39;00m\u001b[38;5;124m\"\u001b[39m)\n",
      "\u001b[1;31mValueError\u001b[0m: x and y must have same first dimension, but have shapes (50,) and (51,)"
     ]
    },
    {
     "data": {
      "image/png": "[encoded data removed]",
      "text/plain": [
       "<Figure size 800x500 with 1 Axes>"
      ]
     },
     "metadata": {},
     "output_type": "display_data"
    }
   ],
   "source": [
    "# === 6. Visualisasi Konvergensi GA ===\n",
    "plt.figure(figsize=(8, 5))\n",
    "plt.plot(range(N_GENERATIONS), best_fitness_per_generation, marker='o', linestyle='-', color='b', label='RF Fitness Score')\n",
    "plt.plot(range(N_GENERATIONS), best_fitness_per_generation_xgb, marker='o', linestyle='-', color='r', label='XGB Fitness Score')\n",
    "plt.axvline(x=40, linestyle='--', color='gray', label='Stabilization Point')\n",
    "plt.title(\"GA Convergence Over 50 Generations\")\n",
    "plt.xlabel(\"Generation\")\n",
    "plt.ylabel(\"Best Fitness Score\")\n",
    "plt.legend()\n",
    "plt.grid()\n",
    "plt.show()"
   ]
  },
  {
   "cell_type": "code",
   "execution_count": null,
   "id": "4e025005-b6b8-4d55-a53b-c44de9c19c81",
   "metadata": {},
   "outputs": [],
   "source": [
    "# === 7. Evaluasi Model ===\n",
    "def evaluate_model(model, X_train, X_test, y_train, y_test, desc):\n",
    "    model.fit(X_train, y_train)\n",
    "    y_pred = model.predict(X_test)\n",
    "    acc = accuracy_score(y_test, y_pred)\n",
    "    precision = precision_score(y_test, y_pred)\n",
    "    recall = recall_score(y_test, y_pred)\n",
    "    f1 = f1_score(y_test, y_pred)\n",
    "    auc = roc_auc_score(y_test, y_pred)\n",
    "    return [desc, acc, precision, recall, f1, auc]\n",
    "\n",
    "results=[]"
   ]
  },
  {
   "cell_type": "code",
   "execution_count": null,
   "id": "deea7333-c8b8-4201-ae71-78656ea213f5",
   "metadata": {},
   "outputs": [],
   "source": [
    "# Evaluasi Random Forest\n",
    "results.append(evaluate_model(RandomForestClassifier(n_estimators=100, random_state=42), X_train, X_test, y_train, y_test, \"Random Forest Sebelum GA\"))\n",
    "results.append(evaluate_model(RandomForestClassifier(n_estimators=100, random_state=42), X_train[best_features_rf], X_test[best_features_rf], y_train, y_test, \"Random Forest Setelah GA\"))\n"
   ]
  },
  {
   "cell_type": "code",
   "execution_count": null,
   "id": "5d85a347-0e64-4399-b430-6df46d34328a",
   "metadata": {},
   "outputs": [],
   "source": [
    "# Evaluasi XGBoost\n",
    "results.append(evaluate_model(XGBClassifier(n_estimators=100, random_state=42, eval_metric=\"logloss\"), X_train, X_test, y_train, y_test, \"XGBoost Sebelum GA\"))\n",
    "results.append(evaluate_model(XGBClassifier(n_estimators=100, random_state=42, eval_metric=\"logloss\"), X_train[best_features_xgb], X_test[best_features_xgb], y_train, y_test, \"XGBoost Setelah GA\"))\n"
   ]
  },
  {
   "cell_type": "code",
   "execution_count": null,
   "id": "268e80b6-7d92-4605-8ea2-e438df481b78",
   "metadata": {},
   "outputs": [],
   "source": [
    "# Menampilkan hasil evaluasi dalam bentuk tabel\n",
    "df_results = pd.DataFrame(results, columns=[\"Model\", \"Accuracy\", \"Precision\", \"Recall\", \"F1-score\", \"AUC-ROC\"])\n",
    "print(df_results)"
   ]
  }
 ],
 "metadata": {
  "kernelspec": {
   "display_name": "Python 3 (ipykernel)",
   "language": "python",
   "name": "python3"
  },
  "language_info": {
   "codemirror_mode": {
    "name": "ipython",
    "version": 3
   },
   "file_extension": ".py",
   "mimetype": "text/x-python",
   "name": "python",
   "nbconvert_exporter": "python",
   "pygments_lexer": "ipython3",
   "version": "3.10.6"
  }
 },
 "nbformat": 4,
 "nbformat_minor": 5
}
