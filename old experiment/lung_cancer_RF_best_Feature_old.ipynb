{
 "cells": [
  {
   "cell_type": "code",
   "execution_count": 14,
   "id": "d89742a0-08d4-4df8-8a17-0855838a170d",
   "metadata": {},
   "outputs": [
    {
     "name": "stdout",
     "output_type": "stream",
     "text": [
      "Collecting xgboost\n",
      "  Downloading xgboost-3.0.0-py3-none-win_amd64.whl.metadata (2.1 kB)\n",
      "Requirement already satisfied: numpy in d:\\laragon\\bin\\python\\python-3.10\\lib\\site-packages (from xgboost) (2.2.4)\n",
      "Requirement already satisfied: scipy in d:\\laragon\\bin\\python\\python-3.10\\lib\\site-packages (from xgboost) (1.15.2)\n",
      "Downloading xgboost-3.0.0-py3-none-win_amd64.whl (150.0 MB)\n",
      "   ---------------------------------------- 0.0/150.0 MB ? eta -:--:--\n",
      "   ---------------------------------------- 0.0/150.0 MB ? eta -:--:--\n",
      "   ---------------------------------------- 0.0/150.0 MB ? eta -:--:--\n",
      "   ---------------------------------------- 0.3/150.0 MB ? eta -:--:--\n",
      "   ---------------------------------------- 0.5/150.0 MB 1.3 MB/s eta 0:01:57\n",
      "   ---------------------------------------- 0.8/150.0 MB 1.4 MB/s eta 0:01:47\n",
      "   ---------------------------------------- 1.3/150.0 MB 1.8 MB/s eta 0:01:23\n",
      "    --------------------------------------- 2.1/150.0 MB 2.4 MB/s eta 0:01:02\n",
      "    --------------------------------------- 3.1/150.0 MB 3.0 MB/s eta 0:00:49\n",
      "   - -------------------------------------- 4.5/150.0 MB 3.7 MB/s eta 0:00:40\n",
      "   - -------------------------------------- 6.8/150.0 MB 4.9 MB/s eta 0:00:30\n",
      "   -- ------------------------------------- 9.7/150.0 MB 5.8 MB/s eta 0:00:25\n",
      "   --- ------------------------------------ 13.1/150.0 MB 7.0 MB/s eta 0:00:20\n",
      "   ---- ----------------------------------- 15.7/150.0 MB 7.6 MB/s eta 0:00:18\n",
      "   ---- ----------------------------------- 18.4/150.0 MB 8.1 MB/s eta 0:00:17\n",
      "   ----- ---------------------------------- 21.0/150.0 MB 8.5 MB/s eta 0:00:16\n",
      "   ------ --------------------------------- 23.3/150.0 MB 8.8 MB/s eta 0:00:15\n",
      "   ------ --------------------------------- 26.0/150.0 MB 9.1 MB/s eta 0:00:14\n",
      "   ------- -------------------------------- 28.6/150.0 MB 9.3 MB/s eta 0:00:14\n",
      "   -------- ------------------------------- 31.2/150.0 MB 9.6 MB/s eta 0:00:13\n",
      "   --------- ------------------------------ 33.8/150.0 MB 9.8 MB/s eta 0:00:12\n",
      "   --------- ------------------------------ 36.4/150.0 MB 9.9 MB/s eta 0:00:12\n",
      "   ---------- ----------------------------- 38.8/150.0 MB 10.1 MB/s eta 0:00:12\n",
      "   ----------- ---------------------------- 41.4/150.0 MB 10.2 MB/s eta 0:00:11\n",
      "   ----------- ---------------------------- 44.0/150.0 MB 10.3 MB/s eta 0:00:11\n",
      "   ------------ --------------------------- 46.7/150.0 MB 10.4 MB/s eta 0:00:10\n",
      "   ------------- -------------------------- 49.3/150.0 MB 10.5 MB/s eta 0:00:10\n",
      "   ------------- -------------------------- 51.6/150.0 MB 10.6 MB/s eta 0:00:10\n",
      "   -------------- ------------------------- 54.3/150.0 MB 10.7 MB/s eta 0:00:09\n",
      "   --------------- ------------------------ 56.9/150.0 MB 10.8 MB/s eta 0:00:09\n",
      "   --------------- ------------------------ 59.5/150.0 MB 10.9 MB/s eta 0:00:09\n",
      "   ---------------- ----------------------- 62.1/150.0 MB 10.9 MB/s eta 0:00:09\n",
      "   ----------------- ---------------------- 64.7/150.0 MB 11.0 MB/s eta 0:00:08\n",
      "   ----------------- ---------------------- 67.4/150.0 MB 11.1 MB/s eta 0:00:08\n",
      "   ------------------ --------------------- 70.0/150.0 MB 11.1 MB/s eta 0:00:08\n",
      "   ------------------- -------------------- 72.6/150.0 MB 11.2 MB/s eta 0:00:07\n",
      "   ------------------- -------------------- 75.0/150.0 MB 11.2 MB/s eta 0:00:07\n",
      "   -------------------- ------------------- 77.6/150.0 MB 11.2 MB/s eta 0:00:07\n",
      "   --------------------- ------------------ 80.2/150.0 MB 11.3 MB/s eta 0:00:07\n",
      "   ---------------------- ----------------- 82.8/150.0 MB 11.3 MB/s eta 0:00:06\n",
      "   ---------------------- ----------------- 85.5/150.0 MB 11.4 MB/s eta 0:00:06\n",
      "   ----------------------- ---------------- 88.1/150.0 MB 11.4 MB/s eta 0:00:06\n",
      "   ------------------------ --------------- 90.4/150.0 MB 11.5 MB/s eta 0:00:06\n",
      "   ------------------------ --------------- 93.1/150.0 MB 11.5 MB/s eta 0:00:05\n",
      "   ------------------------- -------------- 95.7/150.0 MB 11.5 MB/s eta 0:00:05\n",
      "   -------------------------- ------------- 98.3/150.0 MB 11.6 MB/s eta 0:00:05\n",
      "   -------------------------- ------------ 100.9/150.0 MB 11.6 MB/s eta 0:00:05\n",
      "   -------------------------- ------------ 103.3/150.0 MB 11.6 MB/s eta 0:00:05\n",
      "   --------------------------- ----------- 105.9/150.0 MB 11.6 MB/s eta 0:00:04\n",
      "   ---------------------------- ---------- 108.5/150.0 MB 11.6 MB/s eta 0:00:04\n",
      "   ---------------------------- ---------- 111.1/150.0 MB 11.7 MB/s eta 0:00:04\n",
      "   ----------------------------- --------- 113.8/150.0 MB 11.7 MB/s eta 0:00:04\n",
      "   ------------------------------ -------- 116.1/150.0 MB 11.7 MB/s eta 0:00:03\n",
      "   ------------------------------ -------- 118.8/150.0 MB 11.7 MB/s eta 0:00:03\n",
      "   ------------------------------- ------- 121.4/150.0 MB 11.8 MB/s eta 0:00:03\n",
      "   -------------------------------- ------ 124.0/150.0 MB 11.8 MB/s eta 0:00:03\n",
      "   -------------------------------- ------ 126.6/150.0 MB 11.8 MB/s eta 0:00:02\n",
      "   --------------------------------- ----- 129.2/150.0 MB 11.8 MB/s eta 0:00:02\n",
      "   ---------------------------------- ---- 131.6/150.0 MB 11.8 MB/s eta 0:00:02\n",
      "   ---------------------------------- ---- 134.2/150.0 MB 11.9 MB/s eta 0:00:02\n",
      "   ----------------------------------- --- 136.8/150.0 MB 11.9 MB/s eta 0:00:02\n",
      "   ------------------------------------ -- 139.5/150.0 MB 11.9 MB/s eta 0:00:01\n",
      "   ------------------------------------ -- 142.1/150.0 MB 11.9 MB/s eta 0:00:01\n",
      "   ------------------------------------- - 144.7/150.0 MB 11.9 MB/s eta 0:00:01\n",
      "   --------------------------------------  147.1/150.0 MB 11.9 MB/s eta 0:00:01\n",
      "   --------------------------------------  149.7/150.0 MB 11.9 MB/s eta 0:00:01\n",
      "   --------------------------------------  149.9/150.0 MB 11.9 MB/s eta 0:00:01\n",
      "   --------------------------------------- 150.0/150.0 MB 11.8 MB/s eta 0:00:00\n",
      "Installing collected packages: xgboost\n",
      "Successfully installed xgboost-3.0.0\n"
     ]
    },
    {
     "name": "stderr",
     "output_type": "stream",
     "text": [
      "\n",
      "[notice] A new release of pip is available: 24.3.1 -> 25.0.1\n",
      "[notice] To update, run: python.exe -m pip install --upgrade pip\n"
     ]
    },
    {
     "name": "stdout",
     "output_type": "stream",
     "text": [
      "Requirement already satisfied: deap in d:\\laragon\\bin\\python\\python-3.10\\lib\\site-packages (1.4.2)\n",
      "Requirement already satisfied: numpy in d:\\laragon\\bin\\python\\python-3.10\\lib\\site-packages (from deap) (2.2.4)\n"
     ]
    },
    {
     "name": "stderr",
     "output_type": "stream",
     "text": [
      "\n",
      "[notice] A new release of pip is available: 24.3.1 -> 25.0.1\n",
      "[notice] To update, run: python.exe -m pip install --upgrade pip\n"
     ]
    }
   ],
   "source": [
    "!pip install xgboost\n",
    "!pip install deap"
   ]
  },
  {
   "cell_type": "code",
   "execution_count": 15,
   "id": "236a5576-4038-4cac-b52d-157d9ff7203e",
   "metadata": {
    "scrolled": true
   },
   "outputs": [],
   "source": [
    "\n",
    "import numpy as np\n",
    "import pandas as pd\n",
    "\n",
    "from sklearn.ensemble import RandomForestClassifier\n",
    "from sklearn.model_selection import cross_val_score, train_test_split\n",
    "from deap import base, creator, tools, algorithms\n",
    "from sklearn.ensemble import RandomForestClassifier\n",
    "from sklearn.model_selection import train_test_split\n",
    "from sklearn.metrics import accuracy_score, precision_score, recall_score, f1_score, roc_auc_score\n",
    "from sklearn.feature_selection import SelectFromModel\n",
    "import xgboost as xgb\n",
    "from xgboost import XGBClassifier\n"
   ]
  },
  {
   "cell_type": "code",
   "execution_count": 2,
   "id": "b721c9be-327f-4f9b-9473-d5eb19e50f66",
   "metadata": {},
   "outputs": [],
   "source": [
    "# === 1. Load Dataset ===\n",
    "df = pd.read_csv(\"Lung Cancer Dataset.csv\")  # Sesuaikan dengan nama file dataset Anda\n",
    "df['PULMONARY_DISEASE'] = df['PULMONARY_DISEASE'].map({'YES': 1, 'NO': 0})  # Encoding target variable\n"
   ]
  },
  {
   "cell_type": "code",
   "execution_count": 33,
   "id": "2c614d8b-b6a3-406d-a23f-f14a175841cf",
   "metadata": {},
   "outputs": [],
   "source": [
    "# === 2. Parameter Genetic Algorithm ===\n",
    "POPULATION_SIZE = 20  # Ukuran populasi\n",
    "N_GENERATIONS = 50  # Jumlah iterasi generasi\n",
    "MUTATION_RATE = 0.2  # Peluang mutasi"
   ]
  },
  {
   "cell_type": "code",
   "execution_count": 34,
   "id": "ade30093-db2b-4937-b90d-e4a251b269b8",
   "metadata": {},
   "outputs": [],
   "source": [
    "#=== 3. Inisialisasi Genetic Algorithm ===\n",
    "creator.create(\"FitnessMax\", base.Fitness, weights=(1.0,))\n",
    "creator.create(\"Individual\", list, fitness=creator.FitnessMax)\n",
    "\n",
    "toolbox = base.Toolbox()\n",
    "toolbox.register(\"attr_bool\", np.random.randint, 0, 2)  # 0 = fitur tidak dipilih, 1 = fitur dipilih\n",
    "toolbox.register(\"individual\", tools.initRepeat, creator.Individual, toolbox.attr_bool, n=len(X.columns))\n",
    "toolbox.register(\"population\", tools.initRepeat, list, toolbox.individual)"
   ]
  },
  {
   "cell_type": "code",
   "execution_count": 35,
   "id": "a3aadadf-ca2d-4535-8900-a05a34d84555",
   "metadata": {},
   "outputs": [],
   "source": [
    "# === 4. Fungsi Evaluasi ===\n",
    "def evaluate(individual):\n",
    "    selected_features = [col for i, col in enumerate(X.columns) if individual[i] == 1]\n",
    "\n",
    "    if len(selected_features) == 0:\n",
    "        return 0,  # Jika tidak ada fitur yang dipilih, akurasi 0\n",
    "\n",
    "    X_selected = X[selected_features]\n",
    "\n",
    "    # Train-test split\n",
    "    X_train, X_test, y_train, y_test = train_test_split(X_selected, y, test_size=0.2, random_state=42)\n",
    "\n",
    "    # Random Forest model\n",
    "    model = RandomForestClassifier(n_estimators=100, random_state=42)\n",
    "    scores = cross_val_score(model, X_train, y_train, cv=5, scoring='accuracy')\n",
    "\n",
    "    return np.mean(scores),  # Mengembalikan rata-rata akurasi"
   ]
  },
  {
   "cell_type": "code",
   "execution_count": 36,
   "id": "de25196d-2bf2-41b5-bc84-8c73a5ab1cdc",
   "metadata": {},
   "outputs": [],
   "source": [
    "# === 5. Operator GA ===\n",
    "toolbox.register(\"evaluate\", evaluate)\n",
    "toolbox.register(\"mate\", tools.cxTwoPoint)  # Crossover: Kombinasi dua individu\n",
    "toolbox.register(\"mutate\", tools.mutFlipBit, indpb=MUTATION_RATE)  # Mutasi\n",
    "toolbox.register(\"select\", tools.selTournament, tournsize=3)  # Seleksi turnamen"
   ]
  },
  {
   "cell_type": "code",
   "execution_count": 38,
   "id": "84b1c220-d6b3-4856-8cdd-d7d27a22d9ae",
   "metadata": {},
   "outputs": [
    {
     "name": "stdout",
     "output_type": "stream",
     "text": [
      "gen\tnevals\n",
      "0  \t20    \n",
      "1  \t10    \n",
      "2  \t7     \n",
      "3  \t6     \n",
      "4  \t11    \n",
      "5  \t15    \n",
      "6  \t12    \n",
      "7  \t10    \n",
      "8  \t13    \n",
      "9  \t14    \n",
      "10 \t10    \n",
      "11 \t10    \n",
      "12 \t13    \n",
      "13 \t10    \n",
      "14 \t13    \n",
      "15 \t13    \n",
      "16 \t18    \n",
      "17 \t14    \n",
      "18 \t13    \n",
      "19 \t15    \n",
      "20 \t9     \n",
      "21 \t5     \n",
      "22 \t7     \n",
      "23 \t9     \n",
      "24 \t11    \n",
      "25 \t15    \n",
      "26 \t15    \n",
      "27 \t10    \n",
      "28 \t10    \n",
      "29 \t12    \n",
      "30 \t16    \n",
      "31 \t9     \n",
      "32 \t14    \n",
      "33 \t16    \n",
      "34 \t11    \n",
      "35 \t11    \n",
      "36 \t19    \n",
      "37 \t12    \n",
      "38 \t11    \n",
      "39 \t8     \n",
      "40 \t16    \n",
      "41 \t12    \n",
      "42 \t11    \n",
      "43 \t11    \n",
      "44 \t8     \n",
      "45 \t14    \n",
      "46 \t13    \n",
      "47 \t13    \n",
      "48 \t14    \n",
      "49 \t6     \n",
      "50 \t14    \n"
     ]
    },
    {
     "data": {
      "text/plain": [
       "([[0, 0, 1, 0, 1, 1, 1, 1, 1, 1, 1, 1, 1, 1, 1, 0, 1],\n",
       "  [0, 0, 1, 0, 1, 1, 1, 1, 1, 1, 1, 1, 1, 1, 1, 0, 1],\n",
       "  [0, 0, 1, 0, 1, 1, 1, 1, 1, 1, 1, 1, 1, 1, 1, 0, 1],\n",
       "  [0, 0, 1, 0, 1, 1, 1, 1, 1, 1, 1, 1, 1, 1, 1, 0, 1],\n",
       "  [0, 0, 1, 1, 1, 1, 1, 1, 1, 1, 1, 1, 1, 0, 1, 0, 1],\n",
       "  [1, 0, 0, 1, 0, 0, 0, 0, 1, 1, 1, 1, 1, 0, 1, 0, 1],\n",
       "  [0, 0, 1, 0, 1, 1, 1, 1, 1, 1, 1, 1, 1, 0, 1, 0, 1],\n",
       "  [0, 0, 1, 1, 1, 1, 1, 1, 1, 1, 1, 1, 1, 1, 1, 0, 1],\n",
       "  [0, 0, 1, 0, 1, 1, 1, 1, 1, 1, 1, 1, 1, 1, 1, 0, 1],\n",
       "  [0, 0, 1, 0, 1, 1, 1, 1, 1, 1, 1, 1, 1, 1, 1, 0, 1],\n",
       "  [0, 0, 1, 0, 1, 1, 1, 1, 1, 1, 1, 1, 1, 1, 1, 0, 1],\n",
       "  [0, 0, 1, 0, 1, 1, 1, 1, 1, 1, 1, 1, 1, 1, 1, 0, 1],\n",
       "  [0, 0, 1, 0, 1, 1, 1, 1, 1, 1, 1, 1, 0, 0, 1, 0, 0],\n",
       "  [0, 0, 1, 0, 1, 1, 1, 1, 1, 1, 1, 1, 1, 1, 1, 0, 1],\n",
       "  [0, 0, 1, 1, 1, 1, 1, 1, 1, 1, 1, 1, 1, 1, 1, 0, 1],\n",
       "  [0, 0, 1, 0, 1, 1, 1, 1, 1, 1, 1, 1, 1, 0, 1, 0, 1],\n",
       "  [0, 0, 1, 0, 1, 1, 1, 1, 1, 1, 1, 1, 1, 1, 1, 0, 1],\n",
       "  [0, 0, 1, 0, 1, 1, 1, 1, 1, 1, 1, 1, 1, 1, 1, 0, 1],\n",
       "  [0, 0, 1, 0, 1, 1, 1, 1, 1, 1, 1, 1, 1, 1, 1, 0, 1],\n",
       "  [0, 0, 1, 1, 1, 1, 1, 1, 1, 1, 1, 0, 1, 1, 1, 0, 0]],\n",
       " [{'gen': 0, 'nevals': 20},\n",
       "  {'gen': 1, 'nevals': 10},\n",
       "  {'gen': 2, 'nevals': 7},\n",
       "  {'gen': 3, 'nevals': 6},\n",
       "  {'gen': 4, 'nevals': 11},\n",
       "  {'gen': 5, 'nevals': 15},\n",
       "  {'gen': 6, 'nevals': 12},\n",
       "  {'gen': 7, 'nevals': 10},\n",
       "  {'gen': 8, 'nevals': 13},\n",
       "  {'gen': 9, 'nevals': 14},\n",
       "  {'gen': 10, 'nevals': 10},\n",
       "  {'gen': 11, 'nevals': 10},\n",
       "  {'gen': 12, 'nevals': 13},\n",
       "  {'gen': 13, 'nevals': 10},\n",
       "  {'gen': 14, 'nevals': 13},\n",
       "  {'gen': 15, 'nevals': 13},\n",
       "  {'gen': 16, 'nevals': 18},\n",
       "  {'gen': 17, 'nevals': 14},\n",
       "  {'gen': 18, 'nevals': 13},\n",
       "  {'gen': 19, 'nevals': 15},\n",
       "  {'gen': 20, 'nevals': 9},\n",
       "  {'gen': 21, 'nevals': 5},\n",
       "  {'gen': 22, 'nevals': 7},\n",
       "  {'gen': 23, 'nevals': 9},\n",
       "  {'gen': 24, 'nevals': 11},\n",
       "  {'gen': 25, 'nevals': 15},\n",
       "  {'gen': 26, 'nevals': 15},\n",
       "  {'gen': 27, 'nevals': 10},\n",
       "  {'gen': 28, 'nevals': 10},\n",
       "  {'gen': 29, 'nevals': 12},\n",
       "  {'gen': 30, 'nevals': 16},\n",
       "  {'gen': 31, 'nevals': 9},\n",
       "  {'gen': 32, 'nevals': 14},\n",
       "  {'gen': 33, 'nevals': 16},\n",
       "  {'gen': 34, 'nevals': 11},\n",
       "  {'gen': 35, 'nevals': 11},\n",
       "  {'gen': 36, 'nevals': 19},\n",
       "  {'gen': 37, 'nevals': 12},\n",
       "  {'gen': 38, 'nevals': 11},\n",
       "  {'gen': 39, 'nevals': 8},\n",
       "  {'gen': 40, 'nevals': 16},\n",
       "  {'gen': 41, 'nevals': 12},\n",
       "  {'gen': 42, 'nevals': 11},\n",
       "  {'gen': 43, 'nevals': 11},\n",
       "  {'gen': 44, 'nevals': 8},\n",
       "  {'gen': 45, 'nevals': 14},\n",
       "  {'gen': 46, 'nevals': 13},\n",
       "  {'gen': 47, 'nevals': 13},\n",
       "  {'gen': 48, 'nevals': 14},\n",
       "  {'gen': 49, 'nevals': 6},\n",
       "  {'gen': 50, 'nevals': 14}])"
      ]
     },
     "execution_count": 38,
     "metadata": {},
     "output_type": "execute_result"
    }
   ],
   "source": [
    "# === 6. Jalankan Genetic Algorithm ===\n",
    "population = toolbox.population(n=POPULATION_SIZE)\n",
    "hof = tools.HallOfFame(1)  # Menyimpan individu terbaik\n",
    "stats = tools.Statistics(lambda ind: ind.fitness.values)\n",
    "stats.register(\"avg\", np.mean)\n",
    "stats.register(\"std\", np.std)\n",
    "stats.register(\"min\", np.min)\n",
    "stats.register(\"max\", np.max)\n",
    "\n",
    "algorithms.eaSimple(population, toolbox, cxpb=0.5, mutpb=0.2, ngen=N_GENERATIONS, stats=None, halloffame=hof, verbose=True)"
   ]
  },
  {
   "cell_type": "code",
   "execution_count": 39,
   "id": "1e7ee23d-74d9-4bd8-8cfc-beb38c8900df",
   "metadata": {},
   "outputs": [
    {
     "name": "stdout",
     "output_type": "stream",
     "text": [
      "Fitur Terbaik yang Dipilih oleh Genetic Algorithm: ['SMOKING', 'FINGER_DISCOLORATION', 'MENTAL_STRESS', 'EXPOSURE_TO_POLLUTION', 'LONG_TERM_ILLNESS', 'ENERGY_LEVEL', 'IMMUNE_WEAKNESS', 'BREATHING_ISSUE', 'ALCOHOL_CONSUMPTION', 'THROAT_DISCOMFORT', 'OXYGEN_SATURATION', 'FAMILY_HISTORY', 'STRESS_IMMUNE']\n"
     ]
    }
   ],
   "source": [
    "# === 7. Tampilkan Fitur Terbaik ===\n",
    "best_individual = hof[0]\n",
    "best_features = [col for i, col in enumerate(X.columns) if best_individual[i] == 1]\n",
    "\n",
    "print(\"Fitur Terbaik yang Dipilih oleh Genetic Algorithm:\", best_features)"
   ]
  },
  {
   "cell_type": "code",
   "execution_count": 40,
   "id": "a2862796-f4b2-4646-a534-97e600b67d2d",
   "metadata": {},
   "outputs": [],
   "source": [
    "import pandas as pd\n",
    "import numpy as np\n",
    "from sklearn.ensemble import RandomForestClassifier\n",
    "from sklearn.model_selection import train_test_split\n",
    "from sklearn.metrics import accuracy_score, precision_score, recall_score, f1_score, roc_auc_score\n",
    "import xgboost as xgb\n",
    "from xgboost import XGBClassifier\n",
    "from deap import base, creator, tools, algorithms"
   ]
  },
  {
   "cell_type": "code",
   "execution_count": 41,
   "id": "c4317932-1b03-444d-86b9-99ea880320ba",
   "metadata": {},
   "outputs": [],
   "source": [
    "\n",
    "# Load dataset (Ganti 'dataset.csv' dengan nama file yang sesuai)\n",
    "df = pd.read_csv(\"Lung Cancer Dataset.csv\")\n",
    "\n",
    "df['PULMONARY_DISEASE'] = df['PULMONARY_DISEASE'].map({'YES': 1, 'NO': 0})  # Encoding target variable\n",
    "\n",
    "# Pisahkan fitur dan target\n",
    "X = df.drop(columns=['PULMONARY_DISEASE'])\n",
    "y = df['PULMONARY_DISEASE']\n",
    "\n",
    "# Konversi fitur kategori ke numerik (jika ada)\n",
    "X = pd.get_dummies(X)\n"
   ]
  },
  {
   "cell_type": "code",
   "execution_count": 42,
   "id": "0b93962d-42d5-4dff-9806-9c8375eaa78f",
   "metadata": {},
   "outputs": [],
   "source": [
    "\n",
    "# Split data hanya sekali\n",
    "X_train, X_test, y_train, y_test = train_test_split(X, y, test_size=0.2, random_state=42)\n",
    "\n",
    "# Simpan hasil awal sebelum GA\n",
    "result = []"
   ]
  },
  {
   "cell_type": "code",
   "execution_count": 44,
   "id": "23ab7b3e-926e-47e7-9daf-265e59985395",
   "metadata": {},
   "outputs": [],
   "source": [
    "\n",
    "# Train Random Forest sebelum GA\n",
    "rf = RandomForestClassifier(n_estimators=100, random_state=42)\n",
    "rf.fit(X_train, y_train)\n",
    "y_pred_rf = rf.predict(X_test)\n",
    "result.append([\"Random Forest Sebelum GA\", \n",
    "                accuracy_score(y_test, y_pred_rf),\n",
    "                precision_score(y_test, y_pred_rf),\n",
    "                recall_score(y_test, y_pred_rf),\n",
    "                f1_score(y_test, y_pred_rf),\n",
    "                roc_auc_score(y_test, y_pred_rf)])\n",
    "\n",
    "# Train XGBoost sebelum GA\n",
    "xgb_model = XGBClassifier(n_estimators=100, random_state=42,  eval_metric=\"logloss\")\n",
    "xgb_model.fit(X_train, y_train)\n",
    "y_pred_xgb = xgb_model.predict(X_test)\n",
    "result.append([\"XGBoost Sebelum GA\", \n",
    "                accuracy_score(y_test, y_pred_xgb),\n",
    "                precision_score(y_test, y_pred_xgb),\n",
    "                recall_score(y_test, y_pred_xgb),\n",
    "                f1_score(y_test, y_pred_xgb),\n",
    "                roc_auc_score(y_test, y_pred_xgb)])"
   ]
  },
  {
   "cell_type": "code",
   "execution_count": null,
   "id": "7b9f5027-e522-4d2a-95f2-a25b5b82337c",
   "metadata": {},
   "outputs": [],
   "source": []
  }
 ],
 "metadata": {
  "kernelspec": {
   "display_name": "Python 3 (ipykernel)",
   "language": "python",
   "name": "python3"
  },
  "language_info": {
   "codemirror_mode": {
    "name": "ipython",
    "version": 3
   },
   "file_extension": ".py",
   "mimetype": "text/x-python",
   "name": "python",
   "nbconvert_exporter": "python",
   "pygments_lexer": "ipython3",
   "version": "3.10.6"
  }
 },
 "nbformat": 4,
 "nbformat_minor": 5
}
