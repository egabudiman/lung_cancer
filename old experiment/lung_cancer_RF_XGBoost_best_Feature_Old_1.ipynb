{
 "cells": [
  {
   "cell_type": "code",
   "execution_count": 25,
   "id": "ef5b5add-8c4e-4553-a150-3213613071f0",
   "metadata": {},
   "outputs": [],
   "source": [
    "# === 1. Import Library ===\n",
    "import pandas as pd\n",
    "import numpy as np\n",
    "import matplotlib.pyplot as plt\n",
    "from sklearn.ensemble import RandomForestClassifier\n",
    "from sklearn.model_selection import train_test_split\n",
    "from sklearn.metrics import accuracy_score, precision_score, recall_score, f1_score, roc_auc_score\n",
    "import xgboost as xgb\n",
    "import random\n",
    "from xgboost import XGBClassifier\n",
    "from deap import base, creator, tools, algorithms\n",
    "\n"
   ]
  },
  {
   "cell_type": "code",
   "execution_count": 26,
   "id": "a525df43-fe20-447a-b79f-665b755ffbae",
   "metadata": {},
   "outputs": [],
   "source": [
    "RANDOM_SEED = 42\n",
    "random.seed(RANDOM_SEED)        # Seed untuk modul random\n",
    "np.random.seed(RANDOM_SEED)     # Seed untuk NumPy\n",
    "\n",
    "# Random Forest dengan random_state tetap\n",
    "rf_model = RandomForestClassifier(random_state=RANDOM_SEED)\n",
    "\n",
    "# XGBoost dengan random_state tetap\n",
    "xgb_model = XGBClassifier(random_state=RANDOM_SEED)"
   ]
  },
  {
   "cell_type": "code",
   "execution_count": 32,
   "id": "a6f7dc2c-1d53-4d1b-88d9-22683e6de160",
   "metadata": {},
   "outputs": [],
   "source": [
    "# === 2. Load Dataset ===\n",
    "df = pd.read_csv(\"Lung Cancer Dataset.csv\")\n",
    "df = df.sort_values(by=\"AGE\", ascending=True).reset_index(drop=True)\n",
    "df['PULMONARY_DISEASE'] = df['PULMONARY_DISEASE'].map({'YES': 1, 'NO': 0})  # Encoding target variable"
   ]
  },
  {
   "cell_type": "code",
   "execution_count": 33,
   "id": "86f1c85c-94c6-4f80-828a-77c1bd3f58b7",
   "metadata": {},
   "outputs": [],
   "source": [
    "# Pisahkan fitur dan target\n",
    "X = df.drop(columns=['PULMONARY_DISEASE'])\n",
    "y = df['PULMONARY_DISEASE']"
   ]
  },
  {
   "cell_type": "code",
   "execution_count": 34,
   "id": "1b6c094a-da20-4c80-9d17-b4a45330074a",
   "metadata": {},
   "outputs": [],
   "source": [
    "# Konversi fitur kategori ke numerik (jika ada)\n",
    "X = pd.get_dummies(X)"
   ]
  },
  {
   "cell_type": "code",
   "execution_count": 37,
   "id": "d102d6ec-2452-4375-9de6-25408dcaa480",
   "metadata": {},
   "outputs": [],
   "source": [
    "# Split data\n",
    "# Membagi data dengan random_state agar hasil tetap sama\n",
    "X_train, X_test, y_train, y_test = train_test_split(\n",
    "    X, y, test_size=0.2, random_state=RANDOM_SEED, stratify=y, shuffle=True\n",
    ")"
   ]
  },
  {
   "cell_type": "code",
   "execution_count": 8,
   "id": "78d32df6-8383-4501-8a48-845fa0a1db63",
   "metadata": {},
   "outputs": [],
   "source": [
    "# === 3. Parameter Genetic Algorithm ===\n",
    "POPULATION_SIZE = 20  # Ukuran populasi\n",
    "N_GENERATIONS = 50  # Jumlah iterasi generasi\n",
    "MUTATION_RATE = 0.2  # Peluang mutasi"
   ]
  },
  {
   "cell_type": "code",
   "execution_count": 40,
   "id": "bc914602-6387-4509-ba04-97bcfcb0e02a",
   "metadata": {},
   "outputs": [],
   "source": [
    "if not hasattr(creator, \"FitnessMax\"):\n",
    "    creator.create(\"FitnessMax\", base.Fitness, weights=(1.0,))\n",
    "\n",
    "if not hasattr(creator, \"Individual\"):\n",
    "    creator.create(\"Individual\", list, fitness=creator.FitnessMax)\n",
    "# Inisialisasi GA\n",
    "creator.create(\"FitnessMax\", base.Fitness, weights=(1.0,))\n",
    "creator.create(\"Individual\", list, fitness=creator.FitnessMax)\n",
    "\n"
   ]
  },
  {
   "cell_type": "code",
   "execution_count": 41,
   "id": "08a348a1-e8c7-41e4-90b1-e1a8b5a38934",
   "metadata": {},
   "outputs": [],
   "source": [
    "toolbox = base.Toolbox()\n",
    "toolbox.register(\"attr_bool\", np.random.randint, 0, 2)\n",
    "toolbox.register(\"individual\", tools.initRepeat, creator.Individual, toolbox.attr_bool, n=len(X.columns))\n",
    "toolbox.register(\"population\", tools.initRepeat, list, toolbox.individual)"
   ]
  },
  {
   "cell_type": "code",
   "execution_count": 42,
   "id": "e4f0975b-f65b-4fd3-9424-71668ec1040f",
   "metadata": {},
   "outputs": [],
   "source": [
    "# === 4. Genetic Algorithm for Feature Selection (Random Forest) ===\n",
    "def evaluate_rf(individual):\n",
    "    selected_features = [col for i, col in enumerate(X.columns) if individual[i] == 1]\n",
    "    if len(selected_features) == 0:\n",
    "        return 0,\n",
    "    X_selected = X[selected_features]\n",
    "    X_train_sel, X_test_sel, y_train_sel, y_test_sel = train_test_split(X_selected, y, test_size=0.2, random_state=42)\n",
    "    model = RandomForestClassifier(n_estimators=100, random_state=42)\n",
    "    scores = accuracy_score(y_test_sel, model.fit(X_train_sel, y_train_sel).predict(X_test_sel))\n",
    "    return scores,\n",
    "\n",
    "toolbox.register(\"evaluate\", evaluate_rf)\n",
    "toolbox.register(\"mate\", tools.cxTwoPoint)\n",
    "toolbox.register(\"mutate\", tools.mutFlipBit, indpb=MUTATION_RATE)\n",
    "toolbox.register(\"select\", tools.selTournament, tournsize=3)"
   ]
  },
  {
   "cell_type": "code",
   "execution_count": 43,
   "id": "7b6c0282-2537-44e2-ba4a-074c4c9b8c9d",
   "metadata": {},
   "outputs": [],
   "source": [
    "# Simpan nilai fitness terbaik tiap generasi\n",
    "best_fitness_per_generation = []"
   ]
  },
  {
   "cell_type": "code",
   "execution_count": 44,
   "id": "88e83b6f-ad17-46a4-9827-e042887bfdb0",
   "metadata": {},
   "outputs": [
    {
     "name": "stdout",
     "output_type": "stream",
     "text": [
      "Running Genetic Algorithm for 50 generations...\n",
      "\n",
      "gen\tnevals\tmax  \tmin  \tavg   \n",
      "0  \t20    \t0.868\t0.533\t0.7098\n",
      "1  \t11    \t0.868\t0.666\t0.784 \n",
      "2  \t17    \t0.915\t0.704\t0.8199\n",
      "3  \t9     \t0.917\t0.699\t0.84565\n",
      "4  \t11    \t0.919\t0.711\t0.87015\n",
      "5  \t12    \t0.922\t0.758\t0.8895 \n",
      "6  \t13    \t0.922\t0.799\t0.90555\n",
      "7  \t11    \t0.922\t0.664\t0.8943 \n",
      "8  \t8     \t0.922\t0.833\t0.91315\n",
      "9  \t9     \t0.922\t0.832\t0.91665\n",
      "10 \t11    \t0.922\t0.706\t0.88285\n",
      "11 \t15    \t0.922\t0.767\t0.9048 \n",
      "12 \t11    \t0.922\t0.838\t0.91575\n",
      "13 \t10    \t0.922\t0.711\t0.89515\n",
      "14 \t11    \t0.922\t0.807\t0.90865\n",
      "15 \t10    \t0.922\t0.757\t0.883  \n",
      "16 \t12    \t0.922\t0.675\t0.87025\n",
      "17 \t10    \t0.922\t0.677\t0.8763 \n",
      "18 \t13    \t0.922\t0.683\t0.891  \n",
      "19 \t11    \t0.922\t0.733\t0.89555\n",
      "20 \t7     \t0.922\t0.855\t0.91545\n",
      "21 \t14    \t0.922\t0.723\t0.9092 \n",
      "22 \t11    \t0.922\t0.666\t0.8875 \n",
      "23 \t11    \t0.922\t0.676\t0.88115\n",
      "24 \t4     \t0.922\t0.637\t0.8991 \n",
      "25 \t10    \t0.922\t0.73 \t0.8959 \n",
      "26 \t17    \t0.922\t0.789\t0.90085\n",
      "27 \t10    \t0.922\t0.741\t0.907  \n",
      "28 \t5     \t0.922\t0.812\t0.91185\n",
      "29 \t11    \t0.922\t0.687\t0.8853 \n",
      "30 \t8     \t0.922\t0.708\t0.904  \n",
      "31 \t14    \t0.922\t0.761\t0.8955 \n",
      "32 \t13    \t0.922\t0.756\t0.8923 \n",
      "33 \t14    \t0.922\t0.724\t0.9019 \n",
      "34 \t9     \t0.922\t0.639\t0.90785\n",
      "35 \t12    \t0.922\t0.595\t0.86585\n",
      "36 \t14    \t0.922\t0.724\t0.872  \n",
      "37 \t16    \t0.922\t0.754\t0.89775\n",
      "38 \t16    \t0.922\t0.641\t0.8836 \n",
      "39 \t8     \t0.922\t0.789\t0.9105 \n",
      "40 \t16    \t0.922\t0.822\t0.91595\n",
      "41 \t8     \t0.922\t0.827\t0.9165 \n",
      "42 \t13    \t0.922\t0.716\t0.88765\n",
      "43 \t18    \t0.922\t0.766\t0.9    \n",
      "44 \t12    \t0.922\t0.691\t0.8886 \n",
      "45 \t13    \t0.922\t0.71 \t0.8897 \n",
      "46 \t10    \t0.922\t0.838\t0.9176 \n",
      "47 \t15    \t0.922\t0.777\t0.899  \n",
      "48 \t7     \t0.922\t0.704\t0.89965\n",
      "49 \t11    \t0.922\t0.677\t0.887  \n",
      "50 \t15    \t0.922\t0.799\t0.89335\n",
      "\n",
      "Fitur Terbaik yang Dipilih oleh GA untuk Random Forest:\n",
      "['AGE', 'GENDER', 'SMOKING', 'FINGER_DISCOLORATION', 'EXPOSURE_TO_POLLUTION', 'ENERGY_LEVEL', 'IMMUNE_WEAKNESS', 'BREATHING_ISSUE', 'ALCOHOL_CONSUMPTION', 'THROAT_DISCOMFORT', 'OXYGEN_SATURATION', 'SMOKING_FAMILY_HISTORY', 'STRESS_IMMUNE']\n"
     ]
    }
   ],
   "source": [
    "# Jalankan GA untuk RF\n",
    "population = toolbox.population(n=POPULATION_SIZE)\n",
    "hof = tools.HallOfFame(1)\n",
    "\n",
    "# Menjalankan GA dalam satu kali pemanggilan untuk semua generasi\n",
    "stats = tools.Statistics(lambda ind: ind.fitness.values)\n",
    "stats.register(\"max\", np.max)\n",
    "stats.register(\"min\", np.min)\n",
    "stats.register(\"avg\", np.mean)\n",
    "\n",
    "print(f\"Running Genetic Algorithm for {N_GENERATIONS} generations...\\n\")\n",
    "\n",
    "# Jalankan GA satu kali untuk semua generasi\n",
    "population, logbook = algorithms.eaSimple(population, toolbox, cxpb=0.5, mutpb=0.2, \n",
    "                                          ngen=N_GENERATIONS, stats=stats, halloffame=hof, verbose=True)\n",
    "\n",
    "# Simpan nilai fitness terbaik dari setiap generasi\n",
    "best_fitness_per_generation = logbook.select(\"max\")\n",
    "\n",
    "# Pastikan bahwa GA berhasil menemukan individu terbaik\n",
    "if len(hof) > 0:\n",
    "    best_features_rf = [col for i, col in enumerate(X.columns) if hof[0][i] == 1]\n",
    "    print(\"\\nFitur Terbaik yang Dipilih oleh GA untuk Random Forest:\")\n",
    "    print(best_features_rf)\n",
    "else:\n",
    "    print(\"⚠️ GA tidak menemukan individu terbaik. Periksa kembali parameter GA.\")\n",
    "    best_features_rf = []\n"
   ]
  },
  {
   "cell_type": "code",
   "execution_count": 45,
   "id": "ff81e50f-6f68-4d29-8e45-c8b5c77e8b4d",
   "metadata": {},
   "outputs": [],
   "source": [
    "# === 5. Genetic Algorithm for Feature Selection (XGBoost) ===\n",
    "def evaluate_xgb(individual):\n",
    "    selected_features = [col for i, col in enumerate(X.columns) if individual[i] == 1]\n",
    "    if len(selected_features) == 0:\n",
    "        return 0,\n",
    "    X_selected = X[selected_features]\n",
    "    X_train_sel, X_test_sel, y_train_sel, y_test_sel = train_test_split(X_selected, y, test_size=0.2, random_state=42)\n",
    "    model = XGBClassifier(n_estimators=100, random_state=42, eval_metric=\"logloss\")\n",
    "    scores = accuracy_score(y_test_sel, model.fit(X_train_sel, y_train_sel).predict(X_test_sel))\n",
    "    return scores,\n",
    "\n",
    "toolbox.register(\"evaluate\", evaluate_xgb)"
   ]
  },
  {
   "cell_type": "code",
   "execution_count": 46,
   "id": "5e39e6b3-3dc8-4c91-8189-7cd8dfc9a6ac",
   "metadata": {},
   "outputs": [],
   "source": [
    "# Simpan nilai fitness terbaik tiap generasi untuk XGBoost\n",
    "best_fitness_per_generation_xgb = []"
   ]
  },
  {
   "cell_type": "code",
   "execution_count": 47,
   "id": "54a2ce7c-0a4b-4e2d-adcd-1361667e7821",
   "metadata": {},
   "outputs": [
    {
     "name": "stdout",
     "output_type": "stream",
     "text": [
      "Running Genetic Algorithm for XGBoost with 50 generations...\n",
      "\n",
      "gen\tnevals\tmax  \tmin \tavg    \n",
      "0  \t20    \t0.865\t0.58\t0.70865\n",
      "1  \t10    \t0.875\t0.677\t0.8033 \n",
      "2  \t12    \t0.907\t0.673\t0.83925\n",
      "3  \t12    \t0.912\t0.695\t0.86355\n",
      "4  \t14    \t0.912\t0.639\t0.84025\n",
      "5  \t12    \t0.912\t0.703\t0.8574 \n",
      "6  \t13    \t0.912\t0.696\t0.8682 \n",
      "7  \t12    \t0.912\t0.747\t0.88485\n",
      "8  \t11    \t0.912\t0.61 \t0.8771 \n",
      "9  \t15    \t0.912\t0.817\t0.90425\n",
      "10 \t13    \t0.912\t0.687\t0.8889 \n",
      "11 \t12    \t0.912\t0.793\t0.89605\n",
      "12 \t11    \t0.912\t0.753\t0.87725\n",
      "13 \t7     \t0.912\t0.686\t0.88785\n",
      "14 \t4     \t0.912\t0.912\t0.912  \n",
      "15 \t12    \t0.912\t0.784\t0.8993 \n",
      "16 \t12    \t0.912\t0.665\t0.8865 \n",
      "17 \t12    \t0.912\t0.706\t0.8945 \n",
      "18 \t11    \t0.912\t0.704\t0.8939 \n",
      "19 \t15    \t0.912\t0.711\t0.8926 \n",
      "20 \t11    \t0.912\t0.733\t0.88575\n",
      "21 \t13    \t0.912\t0.733\t0.89865\n",
      "22 \t12    \t0.912\t0.723\t0.88215\n",
      "23 \t8     \t0.912\t0.829\t0.90385\n",
      "24 \t10    \t0.912\t0.683\t0.87655\n",
      "25 \t15    \t0.912\t0.607\t0.88095\n",
      "26 \t8     \t0.912\t0.85 \t0.9065 \n",
      "27 \t8     \t0.912\t0.861\t0.90925\n",
      "28 \t17    \t0.912\t0.684\t0.864  \n",
      "29 \t11    \t0.912\t0.74 \t0.8939 \n",
      "30 \t15    \t0.912\t0.715\t0.8871 \n",
      "31 \t9     \t0.912\t0.733\t0.90305\n",
      "32 \t15    \t0.912\t0.757\t0.89315\n",
      "33 \t10    \t0.912\t0.786\t0.9007 \n",
      "34 \t11    \t0.912\t0.713\t0.88925\n",
      "35 \t10    \t0.912\t0.676\t0.8975 \n",
      "36 \t17    \t0.912\t0.747\t0.89055\n",
      "37 \t8     \t0.912\t0.746\t0.8942 \n",
      "38 \t13    \t0.912\t0.765\t0.9008 \n",
      "39 \t14    \t0.912\t0.617\t0.89725\n",
      "40 \t11    \t0.912\t0.869\t0.90785\n",
      "41 \t13    \t0.912\t0.753\t0.902  \n",
      "42 \t9     \t0.912\t0.732\t0.89225\n",
      "43 \t10    \t0.912\t0.743\t0.8876 \n",
      "44 \t11    \t0.912\t0.694\t0.88055\n",
      "45 \t8     \t0.912\t0.679\t0.89625\n",
      "46 \t12    \t0.912\t0.904\t0.9116 \n",
      "47 \t7     \t0.912\t0.704\t0.89235\n",
      "48 \t18    \t0.912\t0.689\t0.88445\n",
      "49 \t13    \t0.912\t0.652\t0.87635\n",
      "50 \t13    \t0.912\t0.828\t0.90735\n",
      "\n",
      "Fitur Terbaik yang Dipilih oleh GA untuk XGBoost:\n",
      "['GENDER', 'SMOKING', 'EXPOSURE_TO_POLLUTION', 'ENERGY_LEVEL', 'IMMUNE_WEAKNESS', 'BREATHING_ISSUE', 'ALCOHOL_CONSUMPTION', 'THROAT_DISCOMFORT', 'OXYGEN_SATURATION', 'SMOKING_FAMILY_HISTORY', 'STRESS_IMMUNE']\n"
     ]
    }
   ],
   "source": [
    "# Jalankan GA untuk XGBoost\n",
    "population = toolbox.population(n=POPULATION_SIZE)\n",
    "hof = tools.HallOfFame(1)\n",
    "\n",
    "# Menjalankan GA dalam satu kali pemanggilan untuk semua generasi\n",
    "stats = tools.Statistics(lambda ind: ind.fitness.values)\n",
    "stats.register(\"max\", np.max)\n",
    "stats.register(\"min\", np.min)\n",
    "stats.register(\"avg\", np.mean)\n",
    "\n",
    "print(f\"Running Genetic Algorithm for XGBoost with {N_GENERATIONS} generations...\\n\")\n",
    "\n",
    "# Jalankan GA satu kali untuk semua generasi\n",
    "population, logbook = algorithms.eaSimple(population, toolbox, cxpb=0.5, mutpb=0.2, \n",
    "                                          ngen=N_GENERATIONS, stats=stats, halloffame=hof, verbose=True)\n",
    "\n",
    "# Simpan nilai fitness terbaik dari setiap generasi\n",
    "#best_fitness_per_generation_xgb = logbook.select(\"max\")\n",
    "best_fitness_per_generation_xgb = logbook.select(\"max\")[1:]  # Hilangkan nilai generasi 0\n",
    "# Pastikan bahwa GA berhasil menemukan individu terbaik\n",
    "if len(hof) > 0:\n",
    "    best_features_xgb = [col for i, col in enumerate(X.columns) if hof[0][i] == 1]\n",
    "    print(\"\\nFitur Terbaik yang Dipilih oleh GA untuk XGBoost:\")\n",
    "    print(best_features_xgb)\n",
    "else:\n",
    "    print(\"⚠️ GA tidak menemukan individu terbaik untuk XGBoost. Periksa kembali parameter GA.\")\n",
    "    best_features_xgb = []\n"
   ]
  },
  {
   "cell_type": "code",
   "execution_count": 48,
   "id": "520c6464-928c-4822-a3e0-ce777b35a013",
   "metadata": {},
   "outputs": [
    {
     "data": {
      "image/png": "[encoded data removed]",
      "text/plain": [
       "<Figure size 800x500 with 1 Axes>"
      ]
     },
     "metadata": {},
     "output_type": "display_data"
    }
   ],
   "source": [
    "# === 6. Visualisasi Konvergensi GA ===\n",
    "plt.figure(figsize=(8, 5))\n",
    "\n",
    "# Pastikan jumlah data cocok dengan jumlah generasi\n",
    "generations = list(range(1, N_GENERATIONS+1))  # Mulai dari 1 agar generasi 0 tidak ikut\n",
    "\n",
    "# Plot konvergensi untuk Random Forest\n",
    "plt.plot(generations, best_fitness_per_generation[:N_GENERATIONS], \n",
    "         marker='o', linestyle='-', color='b', label='RF Fitness Score')\n",
    "\n",
    "# Plot konvergensi untuk XGBoost\n",
    "plt.plot(generations, best_fitness_per_generation_xgb[:N_GENERATIONS], \n",
    "         marker='o', linestyle='-', color='r', label='XGB Fitness Score')\n",
    "\n",
    "# Garis vertikal sebagai tanda stabilisasi\n",
    "plt.axvline(x=40, linestyle='--', color='gray', label='Stabilization Point')\n",
    "\n",
    "# Judul dan label\n",
    "plt.title(\"GA Convergence Over 50 Generations\")\n",
    "plt.xlabel(\"Generation\")\n",
    "plt.ylabel(\"Best Fitness Score\")\n",
    "plt.legend()\n",
    "plt.grid()\n",
    "\n",
    "# Tampilkan grafik\n",
    "plt.show()\n"
   ]
  },
  {
   "cell_type": "code",
   "execution_count": 49,
   "id": "4e025005-b6b8-4d55-a53b-c44de9c19c81",
   "metadata": {},
   "outputs": [],
   "source": [
    "# === 7. Evaluasi Model ===\n",
    "def evaluate_model(model, X_train, X_test, y_train, y_test, desc):\n",
    "    model.fit(X_train, y_train)\n",
    "    y_pred = model.predict(X_test)\n",
    "    acc = accuracy_score(y_test, y_pred)\n",
    "    precision = precision_score(y_test, y_pred)\n",
    "    recall = recall_score(y_test, y_pred)\n",
    "    f1 = f1_score(y_test, y_pred)\n",
    "    auc = roc_auc_score(y_test, y_pred)\n",
    "    return [desc, acc, precision, recall, f1, auc]\n",
    "\n",
    "results=[]"
   ]
  },
  {
   "cell_type": "code",
   "execution_count": 50,
   "id": "deea7333-c8b8-4201-ae71-78656ea213f5",
   "metadata": {},
   "outputs": [],
   "source": [
    "# Evaluasi Random Forest\n",
    "results.append(evaluate_model(RandomForestClassifier(n_estimators=100, random_state=42), X_train, X_test, y_train, y_test, \"Random Forest Sebelum GA\"))\n",
    "results.append(evaluate_model(RandomForestClassifier(n_estimators=100, random_state=42), X_train[best_features_rf], X_test[best_features_rf], y_train, y_test, \"Random Forest Setelah GA\"))\n"
   ]
  },
  {
   "cell_type": "code",
   "execution_count": 51,
   "id": "5d85a347-0e64-4399-b430-6df46d34328a",
   "metadata": {},
   "outputs": [],
   "source": [
    "# Evaluasi XGBoost\n",
    "results.append(evaluate_model(XGBClassifier(n_estimators=100, random_state=42, eval_metric=\"logloss\"), X_train, X_test, y_train, y_test, \"XGBoost Sebelum GA\"))\n",
    "results.append(evaluate_model(XGBClassifier(n_estimators=100, random_state=42, eval_metric=\"logloss\"), X_train[best_features_xgb], X_test[best_features_xgb], y_train, y_test, \"XGBoost Setelah GA\"))\n"
   ]
  },
  {
   "cell_type": "code",
   "execution_count": 52,
   "id": "268e80b6-7d92-4605-8ea2-e438df481b78",
   "metadata": {},
   "outputs": [
    {
     "name": "stdout",
     "output_type": "stream",
     "text": [
      "                      Model  Accuracy  Precision    Recall  F1-score   AUC-ROC\n",
      "0  Random Forest Sebelum GA     0.920   0.909774  0.891892  0.900744  0.915592\n",
      "1  Random Forest Setelah GA     0.921   0.910000  0.894349  0.902107  0.916820\n",
      "2        XGBoost Sebelum GA     0.908   0.890819  0.882064  0.886420  0.903932\n",
      "3        XGBoost Setelah GA     0.910   0.885645  0.894349  0.889976  0.907545\n"
     ]
    }
   ],
   "source": [
    "# Menampilkan hasil evaluasi dalam bentuk tabel\n",
    "df_results = pd.DataFrame(results, columns=[\"Model\", \"Accuracy\", \"Precision\", \"Recall\", \"F1-score\", \"AUC-ROC\"])\n",
    "print(df_results)"
   ]
  },
  {
   "cell_type": "code",
   "execution_count": 21,
   "id": "0659b7a6-634a-42af-8eb9-b95e5a1d1d5d",
   "metadata": {},
   "outputs": [
    {
     "name": "stdout",
     "output_type": "stream",
     "text": [
      "\n",
      "Hasil Evaluasi Model:\n",
      "           Model  Accuracy  Precision    Recall  F1-score   AUC-ROC\n",
      "0  Random Forest     0.922   0.916865  0.899767  0.908235  0.931531\n",
      "1        XGBoost     0.911   0.902844  0.888112  0.895417  0.927935\n"
     ]
    },
    {
     "data": {
      "image/png": "[encoded data removed]",
      "text/plain": [
       "<Figure size 800x600 with 1 Axes>"
      ]
     },
     "metadata": {},
     "output_type": "display_data"
    }
   ],
   "source": [
    "# === 4. Evaluasi Model ===\n",
    "def evaluate_model(model, X_train, X_test, y_train, y_test, desc):\n",
    "    \"\"\" Fungsi untuk mengevaluasi model dengan metrik akurasi, presisi, recall, F1-score, dan AUC-ROC \"\"\"\n",
    "    model.fit(X_train, y_train)\n",
    "    y_pred = model.predict(X_test)\n",
    "    y_probs = model.predict_proba(X_test)[:, 1]  # Probabilitas kelas positif untuk AUC-ROC\n",
    "    acc = accuracy_score(y_test, y_pred)\n",
    "    precision = precision_score(y_test, y_pred)\n",
    "    recall = recall_score(y_test, y_pred)\n",
    "    f1 = f1_score(y_test, y_pred)\n",
    "    auc_roc = roc_auc_score(y_test, y_probs)\n",
    "    return [desc, acc, precision, recall, f1, auc_roc]\n",
    "\n",
    "# List untuk menyimpan hasil evaluasi\n",
    "results = []\n",
    "\n",
    "# Evaluasi Random Forest\n",
    "rf_model = RandomForestClassifier(n_estimators=100, random_state=42)\n",
    "results.append(evaluate_model(rf_model, X_train[best_features_rf], X_test[best_features_rf], y_train, y_test, \"Random Forest\"))\n",
    "\n",
    "# Evaluasi XGBoost\n",
    "xgb_model = XGBClassifier(n_estimators=100, random_state=42, eval_metric=\"logloss\")\n",
    "results.append(evaluate_model(xgb_model, X_train[best_features_xgb], X_test[best_features_xgb], y_train, y_test, \"XGBoost\"))\n",
    "\n",
    "# Menampilkan hasil evaluasi dalam bentuk tabel\n",
    "df_results = pd.DataFrame(results, columns=[\"Model\", \"Accuracy\", \"Precision\", \"Recall\", \"F1-score\", \"AUC-ROC\"])\n",
    "print(\"\\nHasil Evaluasi Model:\")\n",
    "print(df_results)\n",
    "\n",
    "# === 5. Visualisasi Kurva ROC-AUC ===\n",
    "plt.figure(figsize=(8, 6))\n",
    "\n",
    "def plot_roc_auc(model, X_test, y_test, model_name):\n",
    "    \"\"\" Fungsi untuk menampilkan kurva ROC-AUC \"\"\"\n",
    "    y_probs = model.predict_proba(X_test)[:, 1]  # Probabilitas kelas positif\n",
    "    fpr, tpr, _ = roc_curve(y_test, y_probs)\n",
    "    roc_auc = auc(fpr, tpr)\n",
    "    plt.plot(fpr, tpr, label=f\"{model_name} (AUC = {roc_auc:.3f})\")\n",
    "\n",
    "# Plot ROC-AUC untuk RF dan XGB\n",
    "plot_roc_auc(rf_model, X_test[best_features_rf], y_test, \"Random Forest\")\n",
    "plot_roc_auc(xgb_model, X_test[best_features_xgb], y_test, \"XGBoost\")\n",
    "\n",
    "# Menambahkan garis diagonal sebagai referensi\n",
    "plt.plot([0, 1], [0, 1], 'k--')\n",
    "plt.xlabel(\"False Positive Rate\")\n",
    "plt.ylabel(\"True Positive Rate\")\n",
    "plt.title(\"ROC-AUC Curve for Lung Cancer Classification\")\n",
    "plt.legend(loc=\"lower right\")\n",
    "plt.grid()\n",
    "plt.show()"
   ]
  },
  {
   "cell_type": "code",
   "execution_count": 18,
   "id": "a243ba41-c219-48cf-bfe8-99bcdc4c75c7",
   "metadata": {},
   "outputs": [
    {
     "name": "stdout",
     "output_type": "stream",
     "text": [
      "['In', 'MUTATION_RATE', 'N_GENERATIONS', 'Out', 'POPULATION_SIZE', 'RandomForestClassifier', 'X', 'XGBClassifier', 'X_test', 'X_train', '_', '__', '___', '__builtin__', '__builtins__', '__doc__', '__loader__', '__name__', '__package__', '__session__', '__spec__', '_dh', '_i', '_i1', '_i10', '_i11', '_i12', '_i13', '_i14', '_i15', '_i16', '_i17', '_i18', '_i2', '_i3', '_i4', '_i5', '_i6', '_i7', '_i8', '_i9', '_ih', '_ii', '_iii', '_oh', 'accuracy_score', 'algorithms', 'base', 'best_features_rf', 'best_fitness_per_generation', 'best_fitness_per_generation_xgb', 'creator', 'df', 'evaluate_rf', 'evaluate_xgb', 'exit', 'f1_score', 'get_ipython', 'hof', 'logbook', 'np', 'open', 'pd', 'plt', 'population', 'precision_score', 'quit', 'recall_score', 'roc_auc_score', 'stats', 'toolbox', 'tools', 'train_test_split', 'xgb', 'y', 'y_test', 'y_train']\n"
     ]
    }
   ],
   "source": [
    "print(dir())"
   ]
  },
  {
   "cell_type": "code",
   "execution_count": null,
   "id": "a30bde86-03b8-4fad-829f-e0c0e04f6e15",
   "metadata": {},
   "outputs": [],
   "source": []
  }
 ],
 "metadata": {
  "kernelspec": {
   "display_name": "Python 3 (ipykernel)",
   "language": "python",
   "name": "python3"
  },
  "language_info": {
   "codemirror_mode": {
    "name": "ipython",
    "version": 3
   },
   "file_extension": ".py",
   "mimetype": "text/x-python",
   "name": "python",
   "nbconvert_exporter": "python",
   "pygments_lexer": "ipython3",
   "version": "3.10.6"
  }
 },
 "nbformat": 4,
 "nbformat_minor": 5
}
