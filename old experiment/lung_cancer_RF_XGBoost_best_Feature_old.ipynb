{
 "cells": [
  {
   "cell_type": "code",
   "execution_count": 1,
   "id": "c42cbefc-712c-42df-9ab2-7ec8f1a7817e",
   "metadata": {},
   "outputs": [],
   "source": [
    "import pandas as pd\n",
    "import numpy as np\n",
    "from sklearn.ensemble import RandomForestClassifier\n",
    "from sklearn.model_selection import train_test_split\n",
    "from sklearn.metrics import accuracy_score, precision_score, recall_score, f1_score, roc_auc_score\n",
    "import xgboost as xgb\n",
    "from xgboost import XGBClassifier\n",
    "from deap import base, creator, tools, algorithms"
   ]
  },
  {
   "cell_type": "code",
   "execution_count": 2,
   "id": "c6a516ee-0417-4ffc-99fe-3c99a15c947e",
   "metadata": {},
   "outputs": [],
   "source": [
    "# Load dataset (Ganti 'dataset.csv' dengan nama file yang sesuai)\n",
    "df = pd.read_csv(\"Lung Cancer Dataset.csv\")\n",
    "\n",
    "df['PULMONARY_DISEASE'] = df['PULMONARY_DISEASE'].map({'YES': 1, 'NO': 0})  # Encoding target variable\n",
    "\n",
    "# Pisahkan fitur dan target\n",
    "X = df.drop(columns=['PULMONARY_DISEASE'])\n",
    "y = df['PULMONARY_DISEASE']\n",
    "\n",
    "# Konversi fitur kategori ke numerik (jika ada)\n",
    "X = pd.get_dummies(X)"
   ]
  },
  {
   "cell_type": "code",
   "execution_count": 3,
   "id": "58bc0782-4aa7-40b7-9733-6544c493ab7c",
   "metadata": {},
   "outputs": [],
   "source": [
    "\n",
    "# Split data\n",
    "X_train, X_test, y_train, y_test = train_test_split(X, y, test_size=0.2, random_state=42)\n"
   ]
  },
  {
   "cell_type": "code",
   "execution_count": 4,
   "id": "adaa8b81-7f72-4292-b7ff-c297a83efcb0",
   "metadata": {},
   "outputs": [],
   "source": [
    "\n",
    "# === Genetic Algorithm for Feature Selection ===\n",
    "POPULATION_SIZE = 20  # Ukuran populasi\n",
    "N_GENERATIONS = 50  # Jumlah iterasi generasi\n",
    "MUTATION_RATE = 0.2  # Peluang mutasi"
   ]
  },
  {
   "cell_type": "code",
   "execution_count": 5,
   "id": "ceb9778b-9d93-4789-aed1-7812b24ada5c",
   "metadata": {},
   "outputs": [],
   "source": [
    "creator.create(\"FitnessMax\", base.Fitness, weights=(1.0,))\n",
    "creator.create(\"Individual\", list, fitness=creator.FitnessMax)"
   ]
  },
  {
   "cell_type": "code",
   "execution_count": 6,
   "id": "1f2bfa1d-a922-463c-8fb1-2c8b542ea0d0",
   "metadata": {},
   "outputs": [],
   "source": [
    "\n",
    "# GA for Random Forest\n",
    "toolbox = base.Toolbox()\n",
    "toolbox.register(\"attr_bool\", np.random.randint, 0, 2)\n",
    "toolbox.register(\"individual\", tools.initRepeat, creator.Individual, toolbox.attr_bool, n=len(X.columns))\n",
    "toolbox.register(\"population\", tools.initRepeat, list, toolbox.individual)\n"
   ]
  },
  {
   "cell_type": "code",
   "execution_count": 7,
   "id": "29a082cf-f618-4889-8067-c108c1efd86f",
   "metadata": {},
   "outputs": [],
   "source": [
    "\n",
    "def evaluate_rf(individual):\n",
    "    selected_features = [col for i, col in enumerate(X.columns) if individual[i] == 1]\n",
    "    if len(selected_features) == 0:\n",
    "        return 0,\n",
    "    X_selected = X[selected_features]\n",
    "    X_train_sel, X_test_sel, y_train_sel, y_test_sel = train_test_split(X_selected, y, test_size=0.2, random_state=42)\n",
    "    model = RandomForestClassifier(n_estimators=100, random_state=42)\n",
    "    scores = accuracy_score(y_test_sel, model.fit(X_train_sel, y_train_sel).predict(X_test_sel))\n",
    "    return scores,\n",
    "\n",
    "toolbox.register(\"evaluate\", evaluate_rf)\n",
    "toolbox.register(\"mate\", tools.cxTwoPoint)\n",
    "toolbox.register(\"mutate\", tools.mutFlipBit, indpb=MUTATION_RATE)\n",
    "toolbox.register(\"select\", tools.selTournament, tournsize=3)\n"
   ]
  },
  {
   "cell_type": "code",
   "execution_count": 8,
   "id": "0874e5d6-fbf0-47ca-89f0-b5afa22c2654",
   "metadata": {},
   "outputs": [
    {
     "name": "stdout",
     "output_type": "stream",
     "text": [
      "gen\tnevals\n",
      "0  \t20    \n",
      "1  \t10    \n",
      "2  \t16    \n",
      "3  \t10    \n",
      "4  \t9     \n",
      "5  \t13    \n",
      "6  \t13    \n",
      "7  \t11    \n",
      "8  \t15    \n",
      "9  \t9     \n",
      "10 \t8     \n",
      "11 \t12    \n",
      "12 \t14    \n",
      "13 \t15    \n",
      "14 \t14    \n",
      "15 \t9     \n",
      "16 \t10    \n",
      "17 \t5     \n",
      "18 \t16    \n",
      "19 \t9     \n",
      "20 \t14    \n",
      "21 \t14    \n",
      "22 \t8     \n",
      "23 \t13    \n",
      "24 \t14    \n",
      "25 \t13    \n",
      "26 \t11    \n",
      "27 \t13    \n",
      "28 \t15    \n",
      "29 \t15    \n",
      "30 \t5     \n",
      "31 \t9     \n",
      "32 \t13    \n",
      "33 \t13    \n",
      "34 \t12    \n",
      "35 \t12    \n",
      "36 \t13    \n",
      "37 \t11    \n",
      "38 \t10    \n",
      "39 \t12    \n",
      "40 \t10    \n",
      "41 \t16    \n",
      "42 \t8     \n",
      "43 \t6     \n",
      "44 \t12    \n",
      "45 \t14    \n",
      "46 \t8     \n",
      "47 \t18    \n",
      "48 \t6     \n",
      "49 \t13    \n",
      "50 \t11    \n"
     ]
    }
   ],
   "source": [
    "\n",
    "population = toolbox.population(n=POPULATION_SIZE)\n",
    "hof = tools.HallOfFame(1)\n",
    "algorithms.eaSimple(population, toolbox, cxpb=0.5, mutpb=0.2, ngen=N_GENERATIONS, stats=None, halloffame=hof, verbose=True)\n",
    "best_features_rf = [col for i, col in enumerate(X.columns) if hof[0][i] == 1]\n"
   ]
  },
  {
   "cell_type": "code",
   "execution_count": 9,
   "id": "76bbd0fb-9f26-4aed-82ea-17650fe1ac36",
   "metadata": {},
   "outputs": [],
   "source": [
    "\n",
    "# GA for XGBoost\n",
    "def evaluate_xgb(individual):\n",
    "    selected_features = [col for i, col in enumerate(X.columns) if individual[i] == 1]\n",
    "    if len(selected_features) == 0:\n",
    "        return 0,\n",
    "    X_selected = X[selected_features]\n",
    "    X_train_sel, X_test_sel, y_train_sel, y_test_sel = train_test_split(X_selected, y, test_size=0.2, random_state=42)\n",
    "    model = XGBClassifier(n_estimators=100, random_state=42,  eval_metric=\"logloss\")\n",
    "    scores = accuracy_score(y_test_sel, model.fit(X_train_sel, y_train_sel).predict(X_test_sel))\n",
    "    return scores,\n"
   ]
  },
  {
   "cell_type": "code",
   "execution_count": 11,
   "id": "ae580bad-787b-4671-9d9d-ed311eed684c",
   "metadata": {},
   "outputs": [
    {
     "name": "stdout",
     "output_type": "stream",
     "text": [
      "gen\tnevals\n",
      "0  \t20    \n",
      "1  \t14    \n",
      "2  \t11    \n",
      "3  \t8     \n",
      "4  \t12    \n",
      "5  \t14    \n",
      "6  \t12    \n",
      "7  \t14    \n",
      "8  \t10    \n",
      "9  \t9     \n",
      "10 \t9     \n",
      "11 \t10    \n",
      "12 \t13    \n",
      "13 \t10    \n",
      "14 \t14    \n",
      "15 \t16    \n",
      "16 \t11    \n",
      "17 \t15    \n",
      "18 \t10    \n",
      "19 \t9     \n",
      "20 \t9     \n",
      "21 \t14    \n",
      "22 \t10    \n",
      "23 \t13    \n",
      "24 \t9     \n",
      "25 \t8     \n",
      "26 \t11    \n",
      "27 \t13    \n",
      "28 \t13    \n",
      "29 \t12    \n",
      "30 \t12    \n",
      "31 \t10    \n",
      "32 \t11    \n",
      "33 \t18    \n",
      "34 \t15    \n",
      "35 \t15    \n",
      "36 \t12    \n",
      "37 \t12    \n",
      "38 \t10    \n",
      "39 \t14    \n",
      "40 \t12    \n",
      "41 \t14    \n",
      "42 \t6     \n",
      "43 \t12    \n",
      "44 \t6     \n",
      "45 \t9     \n",
      "46 \t13    \n",
      "47 \t14    \n",
      "48 \t16    \n",
      "49 \t15    \n",
      "50 \t18    \n"
     ]
    }
   ],
   "source": [
    "\n",
    "toolbox.register(\"evaluate\", evaluate_xgb)\n",
    "population = toolbox.population(n=POPULATION_SIZE)\n",
    "hof = tools.HallOfFame(1)\n",
    "algorithms.eaSimple(population, toolbox, cxpb=0.5, mutpb=0.2, ngen=N_GENERATIONS, stats=None, halloffame=hof, verbose=True)\n",
    "best_features_xgb = [col for i, col in enumerate(X.columns) if hof[0][i] == 1]\n"
   ]
  },
  {
   "cell_type": "code",
   "execution_count": 12,
   "id": "8ff8b20b-56af-4f6a-89f0-f1f7c11755ee",
   "metadata": {},
   "outputs": [
    {
     "name": "stdout",
     "output_type": "stream",
     "text": [
      "\n",
      "Fitur Terbaik yang Dipilih oleh Genetic Algorithm untuk Random Forest:\n",
      "['AGE', 'SMOKING', 'EXPOSURE_TO_POLLUTION', 'ENERGY_LEVEL', 'BREATHING_ISSUE', 'ALCOHOL_CONSUMPTION', 'THROAT_DISCOMFORT', 'FAMILY_HISTORY', 'SMOKING_FAMILY_HISTORY', 'STRESS_IMMUNE']\n",
      "\n",
      "Fitur Terbaik yang Dipilih oleh Genetic Algorithm untuk XGBoost:\n",
      "['GENDER', 'SMOKING', 'EXPOSURE_TO_POLLUTION', 'ENERGY_LEVEL', 'BREATHING_ISSUE', 'ALCOHOL_CONSUMPTION', 'THROAT_DISCOMFORT', 'FAMILY_HISTORY', 'SMOKING_FAMILY_HISTORY', 'STRESS_IMMUNE']\n",
      "\n",
      "Perbandingan fitur yang dipilih:\n",
      "                   Feature RF XGBoost\n",
      "0                      AGE  ✓       ✗\n",
      "1                   GENDER  ✗       ✓\n",
      "2                  SMOKING  ✓       ✓\n",
      "3     FINGER_DISCOLORATION  ✗       ✗\n",
      "4            MENTAL_STRESS  ✗       ✗\n",
      "5    EXPOSURE_TO_POLLUTION  ✓       ✓\n",
      "6        LONG_TERM_ILLNESS  ✗       ✗\n",
      "7             ENERGY_LEVEL  ✓       ✓\n",
      "8          IMMUNE_WEAKNESS  ✗       ✗\n",
      "9          BREATHING_ISSUE  ✓       ✓\n",
      "10     ALCOHOL_CONSUMPTION  ✓       ✓\n",
      "11       THROAT_DISCOMFORT  ✓       ✓\n",
      "12       OXYGEN_SATURATION  ✗       ✗\n",
      "13         CHEST_TIGHTNESS  ✗       ✗\n",
      "14          FAMILY_HISTORY  ✓       ✓\n",
      "15  SMOKING_FAMILY_HISTORY  ✓       ✓\n",
      "16           STRESS_IMMUNE  ✓       ✓\n"
     ]
    }
   ],
   "source": [
    "feature_comparison = pd.DataFrame({\n",
    "    'Feature': X.columns,\n",
    "    'RF': ['✓' if f in best_features_rf else '✗' for f in X.columns],\n",
    "    'XGBoost': ['✓' if f in best_features_xgb else '✗' for f in X.columns]\n",
    "})\n",
    "\n",
    "print(\"\\nFitur Terbaik yang Dipilih oleh Genetic Algorithm untuk Random Forest:\")\n",
    "print(best_features_rf)\n",
    "print(\"\\nFitur Terbaik yang Dipilih oleh Genetic Algorithm untuk XGBoost:\")\n",
    "print(best_features_xgb)\n",
    "print(\"\\nPerbandingan fitur yang dipilih:\")\n",
    "print(feature_comparison)\n"
   ]
  },
  {
   "cell_type": "code",
   "execution_count": 13,
   "id": "211b7024-6aa0-4eb3-b130-9e1228722f1e",
   "metadata": {},
   "outputs": [],
   "source": [
    "\n",
    "# Evaluasi Model\n",
    "def evaluate_model(model, X_train, X_test, y_train, y_test, desc):\n",
    "    model.fit(X_train, y_train)\n",
    "    y_pred = model.predict(X_test)\n",
    "    acc = accuracy_score(y_test, y_pred)\n",
    "    precision = precision_score(y_test, y_pred)\n",
    "    recall = recall_score(y_test, y_pred)\n",
    "    f1 = f1_score(y_test, y_pred)\n",
    "    auc = roc_auc_score(y_test, y_pred)\n",
    "    return [desc, acc, precision, recall, f1, auc]\n"
   ]
  },
  {
   "cell_type": "code",
   "execution_count": 18,
   "id": "f3a94fd8-df42-4b68-aad3-dcfe9ffb26bb",
   "metadata": {},
   "outputs": [
    {
     "name": "stdout",
     "output_type": "stream",
     "text": [
      "                      Model  Accuracy  Precision    Recall  F1-score   AUC-ROC\n",
      "0  Random Forest Sebelum GA     0.913   0.903302  0.892774  0.898007  0.910485\n",
      "1  Random Forest Setelah GA     0.922   0.916865  0.899767  0.908235  0.919235\n",
      "2        XGBoost Sebelum GA     0.903   0.880734  0.895105  0.887861  0.902018\n",
      "3        XGBoost Setelah GA     0.911   0.889908  0.904429  0.897110  0.910183\n"
     ]
    }
   ],
   "source": [
    "\n",
    "results=[]\n",
    "\n",
    "# Evaluasi Random Forest\n",
    "results.append(evaluate_model(RandomForestClassifier(n_estimators=100, random_state=42), X_train, X_test, y_train, y_test, \"Random Forest Sebelum GA\"))\n",
    "results.append(evaluate_model(RandomForestClassifier(n_estimators=100, random_state=42), X_train[best_features_rf], X_test[best_features_rf], y_train, y_test, \"Random Forest Setelah GA\"))\n",
    "\n",
    "# Evaluasi XGBoost\n",
    "results.append(evaluate_model(XGBClassifier(n_estimators=100, random_state=42,  eval_metric=\"logloss\"), X_train, X_test, y_train, y_test, \"XGBoost Sebelum GA\"))\n",
    "results.append(evaluate_model(XGBClassifier(n_estimators=100, random_state=42,  eval_metric=\"logloss\"), X_train[best_features_xgb], X_test[best_features_xgb], y_train, y_test, \"XGBoost Setelah GA\"))\n",
    "\n",
    "# Menampilkan hasil evaluasi dalam bentuk tabel\n",
    "df_results = pd.DataFrame(results, columns=[\"Model\", \"Accuracy\", \"Precision\", \"Recall\", \"F1-score\", \"AUC-ROC\"])\n",
    "print(df_results)\n"
   ]
  },
  {
   "cell_type": "code",
   "execution_count": null,
   "id": "6f2f7298-39f7-47da-93f1-6c720dac16ab",
   "metadata": {},
   "outputs": [],
   "source": []
  }
 ],
 "metadata": {
  "kernelspec": {
   "display_name": "Python 3 (ipykernel)",
   "language": "python",
   "name": "python3"
  },
  "language_info": {
   "codemirror_mode": {
    "name": "ipython",
    "version": 3
   },
   "file_extension": ".py",
   "mimetype": "text/x-python",
   "name": "python",
   "nbconvert_exporter": "python",
   "pygments_lexer": "ipython3",
   "version": "3.10.6"
  }
 },
 "nbformat": 4,
 "nbformat_minor": 5
}
